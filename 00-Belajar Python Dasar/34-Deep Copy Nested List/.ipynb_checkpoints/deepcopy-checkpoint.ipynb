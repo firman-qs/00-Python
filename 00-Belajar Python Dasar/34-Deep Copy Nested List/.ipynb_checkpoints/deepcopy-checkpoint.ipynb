{
 "cells": [
  {
   "cell_type": "markdown",
   "metadata": {},
   "source": [
    "# DEEP COPY"
   ]
  },
  {
   "cell_type": "markdown",
   "metadata": {},
   "source": [
    "## Dengan copy biasa"
   ]
  },
  {
   "cell_type": "code",
   "execution_count": 25,
   "metadata": {},
   "outputs": [
    {
     "name": "stdout",
     "output_type": "stream",
     "text": [
      "[['dudung', 2021, 'kimia'], ['ucup', 2022, 'fisika'], ['asep', 2019, 'biologi']]\n",
      "[['dudung', 2021, 'kimia'], ['ucup', 2022, 'fisika'], ['asep', 2019, 'biologi']]\n",
      "\n",
      "list_fmipa     :[['otong', 2021, 'kimia'], ['ucup', 2022, 'fisika'], ['asep', 2019, 'biologi']], 0x15c2d3a2280\n",
      "list_fmipa_copy:[['otong', 2021, 'kimia'], ['ucup', 2022, 'fisika'], ['asep', 2019, 'biologi']], 0x15c2d3a1c00\n",
      "\n",
      "list_fmipa[0],      0x15c2c9549f0\n",
      "list_fmipa_copy[0], 0x15c2c9549f0\n"
     ]
    }
   ],
   "source": [
    "# sub_list\n",
    "sub_list0 = ['dudung', 2021, 'kimia']\n",
    "sub_list1 = ['ucup', 2022, 'fisika']\n",
    "sub_list2 = ['asep', 2019, 'biologi']\n",
    "\n",
    "list_fmipa = [sub_list0, sub_list1, sub_list2]\n",
    "list_fmipa_copy = list_fmipa.copy()\n",
    "print(list_fmipa)\n",
    "print(list_fmipa_copy)\n",
    "\n",
    "# jika list_fmipa_copy dirubah\n",
    "list_fmipa_copy[0][0] = 'otong'\n",
    "print(f'\\nlist_fmipa     :{list_fmipa}, {hex(id(list_fmipa))}') # list fmipa juga ikut berubah\n",
    "print(f'list_fmipa_copy:{list_fmipa_copy}, {hex(id(list_fmipa_copy))}')\n",
    "\n",
    "# list_fmipa_copy menggunakan reference yang sama untuk sublist\n",
    "print(f'\\nlist_fmipa[0],      {hex(id(list_fmipa[0][0]))}') # list fmipa juga ikut berubah\n",
    "print(f'list_fmipa_copy[0], {hex(id(list_fmipa_copy[0][0]))}')\n"
   ]
  },
  {
   "cell_type": "markdown",
   "metadata": {},
   "source": [
    "## Dengan deep copy"
   ]
  },
  {
   "cell_type": "code",
   "execution_count": 26,
   "metadata": {},
   "outputs": [
    {
     "name": "stdout",
     "output_type": "stream",
     "text": [
      "[['dudung', 2021, 'kimia'], ['ucup', 2022, 'fisika'], ['asep', 2019, 'biologi']]\n",
      "[['dudung', 2021, 'kimia'], ['ucup', 2022, 'fisika'], ['asep', 2019, 'biologi']]\n",
      "[['dudung', 2021, 'kimia'], ['ucup', 2022, 'fisika'], ['asep', 2019, 'biologi']]\n",
      "\n",
      "list_fmipa     :[['otong', 2021, 'kimia'], ['ucup', 2022, 'fisika'], ['asep', 2019, 'biologi']], 0x15c2d4e4c00\n",
      "list_fmipa_copy:[['otong', 2021, 'kimia'], ['ucup', 2022, 'fisika'], ['asep', 2019, 'biologi']], 0x15c2d4e5680\n",
      "list_fmipa_deep:[['dudung', 2021, 'kimia'], ['ucup', 2022, 'fisika'], ['asep', 2019, 'biologi']], 0x15c2d4e4a40\n",
      "\n",
      "list_fmipa[0][0],      0x15c2c9549f0\n",
      "list_fmipa_copy[0][0], 0x15c2c9549f0\n",
      "list_fmipa_deep[0][0], 0x15c2cf5bbb0\n"
     ]
    }
   ],
   "source": [
    "from copy import deepcopy\n",
    "\n",
    "# sub_list\n",
    "sub_list0 = ['dudung', 2021, 'kimia']\n",
    "sub_list1 = ['ucup', 2022, 'fisika']\n",
    "sub_list2 = ['asep', 2019, 'biologi']\n",
    "\n",
    "list_fmipa = [sub_list0, sub_list1, sub_list2]\n",
    "list_fmipa_copy = list_fmipa.copy()\n",
    "list_fmipa_deep = deepcopy(list_fmipa)\n",
    "print(list_fmipa)\n",
    "print(list_fmipa_copy)\n",
    "print(list_fmipa_deep)\n",
    "\n",
    "# jika list_fmipa_copy dirubah\n",
    "list_fmipa_copy[0][0] = 'otong'\n",
    "print(f'\\nlist_fmipa     :{list_fmipa}, {hex(id(list_fmipa))}') # list fmipa juga ikut berubah\n",
    "print(f'list_fmipa_copy:{list_fmipa_copy}, {hex(id(list_fmipa_copy))}')\n",
    "print(f'list_fmipa_deep:{list_fmipa_deep}, {hex(id(list_fmipa_deep))}')\n",
    "\n",
    "# list_fmipa_copy menggunakan reference yang sama untuk sublist\n",
    "print(f'\\nlist_fmipa[0][0],      {hex(id(list_fmipa[0][0]))}') # list fmipa juga ikut berubah\n",
    "print(f'list_fmipa_copy[0][0], {hex(id(list_fmipa_copy[0][0]))}')\n",
    "print(f'list_fmipa_deep[0][0], {hex(id(list_fmipa_deep[0][0]))}')\n"
   ]
  }
 ],
 "metadata": {
  "kernelspec": {
   "display_name": "Python 3 (ipykernel)",
   "language": "python",
   "name": "python3"
  },
  "language_info": {
   "codemirror_mode": {
    "name": "ipython",
    "version": 3
   },
   "file_extension": ".py",
   "mimetype": "text/x-python",
   "name": "python",
   "nbconvert_exporter": "python",
   "pygments_lexer": "ipython3",
   "version": "3.11.1"
  },
  "vscode": {
   "interpreter": {
    "hash": "474eb3216d207aa7f7b3a1b2991999c3d509a0dfbf478bd144769e415689ff10"
   }
  }
 },
 "nbformat": 4,
 "nbformat_minor": 4
}
