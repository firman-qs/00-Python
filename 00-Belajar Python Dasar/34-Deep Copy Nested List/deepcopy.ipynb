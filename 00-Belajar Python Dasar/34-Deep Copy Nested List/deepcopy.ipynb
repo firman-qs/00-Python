{
 "cells": [
  {
   "cell_type": "markdown",
   "metadata": {},
   "source": [
    "# DEEP COPY"
   ]
  },
  {
   "cell_type": "markdown",
   "metadata": {},
   "source": [
    "## Dengan copy biasa"
   ]
  },
  {
   "cell_type": "code",
   "execution_count": 1,
   "metadata": {},
   "outputs": [
    {
     "name": "stdout",
     "output_type": "stream",
     "text": [
      "[['dudung', 2021, 'kimia'], ['ucup', 2022, 'fisika'], ['asep', 2019, 'biologi']]\n",
      "[['dudung', 2021, 'kimia'], ['ucup', 2022, 'fisika'], ['asep', 2019, 'biologi']]\n",
      "\n",
      "list_fmipa     :[['otong', 2021, 'kimia'], ['ucup', 2022, 'fisika'], ['asep', 2019, 'biologi']], 0x26d6224b180\n",
      "list_fmipa_copy:[['otong', 2021, 'kimia'], ['ucup', 2022, 'fisika'], ['asep', 2019, 'biologi']], 0x26d6224b380\n",
      "\n",
      "list_fmipa[0],      0x26d6222b570\n",
      "list_fmipa_copy[0], 0x26d6222b570\n"
     ]
    }
   ],
   "source": [
    "# sub_list\n",
    "sub_list0 = ['dudung', 2021, 'kimia']\n",
    "sub_list1 = ['ucup', 2022, 'fisika']\n",
    "sub_list2 = ['asep', 2019, 'biologi']\n",
    "\n",
    "list_fmipa = [sub_list0, sub_list1, sub_list2]\n",
    "list_fmipa_copy = list_fmipa.copy()\n",
    "print(list_fmipa)\n",
    "print(list_fmipa_copy)\n",
    "\n",
    "# jika list_fmipa_copy dirubah\n",
    "list_fmipa_copy[0][0] = 'otong'\n",
    "print(f'\\nlist_fmipa     :{list_fmipa}, {hex(id(list_fmipa))}') # list fmipa juga ikut berubah\n",
    "print(f'list_fmipa_copy:{list_fmipa_copy}, {hex(id(list_fmipa_copy))}')\n",
    "\n",
    "# list_fmipa_copy menggunakan reference yang sama untuk sublist\n",
    "print(f'\\nlist_fmipa[0],      {hex(id(list_fmipa[0][0]))}') # list fmipa juga ikut berubah\n",
    "print(f'list_fmipa_copy[0], {hex(id(list_fmipa_copy[0][0]))}')\n"
   ]
  },
  {
   "cell_type": "markdown",
   "metadata": {},
   "source": [
    "## Dengan deep copy"
   ]
  },
  {
   "cell_type": "code",
   "execution_count": 2,
   "metadata": {},
   "outputs": [
    {
     "name": "stdout",
     "output_type": "stream",
     "text": [
      "[['dudung', 2021, 'kimia'], ['ucup', 2022, 'fisika'], ['asep', 2019, 'biologi']]\n",
      "[['dudung', 2021, 'kimia'], ['ucup', 2022, 'fisika'], ['asep', 2019, 'biologi']]\n",
      "[['dudung', 2021, 'kimia'], ['ucup', 2022, 'fisika'], ['asep', 2019, 'biologi']]\n",
      "\n",
      "list_fmipa     :[['otong', 2021, 'kimia'], ['ucup', 2022, 'fisika'], ['asep', 2019, 'biologi']], 0x26d62237600\n",
      "list_fmipa_copy:[['otong', 2021, 'kimia'], ['ucup', 2022, 'fisika'], ['asep', 2019, 'biologi']], 0x26d62237cc0\n",
      "list_fmipa_deep:[['dudung', 2021, 'kimia'], ['ucup', 2022, 'fisika'], ['asep', 2019, 'biologi']], 0x26d6224d140\n",
      "\n",
      "list_fmipa[0][0],      0x26d60c88630\n",
      "list_fmipa_copy[0][0], 0x26d60c88630\n",
      "list_fmipa_deep[0][0], 0x26d6218ae30\n"
     ]
    }
   ],
   "source": [
    "from copy import deepcopy\n",
    "\n",
    "# sub_list\n",
    "sub_list0 = ['dudung', 2021, 'kimia']\n",
    "sub_list1 = ['ucup', 2022, 'fisika']\n",
    "sub_list2 = ['asep', 2019, 'biologi']\n",
    "\n",
    "list_fmipa = [sub_list0, sub_list1, sub_list2]\n",
    "list_fmipa_copy = list_fmipa.copy()\n",
    "list_fmipa_deep = deepcopy(list_fmipa)\n",
    "print(list_fmipa)\n",
    "print(list_fmipa_copy)\n",
    "print(list_fmipa_deep)\n",
    "\n",
    "# jika list_fmipa_copy dirubah\n",
    "list_fmipa_copy[0][0] = 'otong'\n",
    "# list fmipa juga ikut berubah\n",
    "print(f'\\nlist_fmipa     :{list_fmipa}, {hex(id(list_fmipa))}')\n",
    "print(f'list_fmipa_copy:{list_fmipa_copy}, {hex(id(list_fmipa_copy))}')\n",
    "print(f'list_fmipa_deep:{list_fmipa_deep}, {hex(id(list_fmipa_deep))}')\n",
    "\n",
    "# list_fmipa_copy menggunakan reference yang sama untuk sublist\n",
    "# list fmipa juga ikut berubah\n",
    "print(f'\\nlist_fmipa[0][0],      {hex(id(list_fmipa[0][0]))}')\n",
    "print(f'list_fmipa_copy[0][0], {hex(id(list_fmipa_copy[0][0]))}')\n",
    "print(f'list_fmipa_deep[0][0], {hex(id(list_fmipa_deep[0][0]))}')\n"
   ]
  }
 ],
 "metadata": {
  "kernelspec": {
   "display_name": "Python 3 (ipykernel)",
   "language": "python",
   "name": "python3"
  },
  "language_info": {
   "codemirror_mode": {
    "name": "ipython",
    "version": 3
   },
   "file_extension": ".py",
   "mimetype": "text/x-python",
   "name": "python",
   "nbconvert_exporter": "python",
   "pygments_lexer": "ipython3",
   "version": "3.11.1 (tags/v3.11.1:a7a450f, Dec  6 2022, 19:58:39) [MSC v.1934 64 bit (AMD64)]"
  },
  "vscode": {
   "interpreter": {
    "hash": "474eb3216d207aa7f7b3a1b2991999c3d509a0dfbf478bd144769e415689ff10"
   }
  }
 },
 "nbformat": 4,
 "nbformat_minor": 4
}
