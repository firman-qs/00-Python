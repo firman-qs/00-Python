{
 "cells": [
  {
   "attachments": {},
   "cell_type": "markdown",
   "metadata": {},
   "source": [
    "# OPERASI DICTIONARY"
   ]
  },
  {
   "cell_type": "code",
   "execution_count": 1,
   "metadata": {},
   "outputs": [],
   "source": [
    "data_dict = {\n",
    "    'Furion': 'Nature Prophet',\n",
    "    'Baratrum': 'Spirit Breaker',\n",
    "    'Traxex': 'Drow Ranger'\n",
    "}\n",
    "# always run code above before running each cell below\n"
   ]
  },
  {
   "attachments": {},
   "cell_type": "markdown",
   "metadata": {},
   "source": [
    "## Menambil panjang dari dictionary"
   ]
  },
  {
   "cell_type": "code",
   "execution_count": 22,
   "metadata": {},
   "outputs": [
    {
     "name": "stdout",
     "output_type": "stream",
     "text": [
      "pannjang: 3\n"
     ]
    }
   ],
   "source": [
    "PANJANG_DICT = len(data_dict)\n",
    "print(f\"pannjang: {PANJANG_DICT}\")\n"
   ]
  },
  {
   "attachments": {},
   "cell_type": "markdown",
   "metadata": {},
   "source": [
    "## Cek keberadaan ```key``` di dalam dictionary"
   ]
  },
  {
   "cell_type": "code",
   "execution_count": 23,
   "metadata": {},
   "outputs": [
    {
     "name": "stdout",
     "output_type": "stream",
     "text": [
      "'furion' di dalam dict: False\n"
     ]
    }
   ],
   "source": [
    "ADA = 'furion' in data_dict\n",
    "print(f\"'furion' di dalam dict: {ADA}\")\n"
   ]
  },
  {
   "attachments": {},
   "cell_type": "markdown",
   "metadata": {},
   "source": [
    "## Mengakses value/read menggunakan ```get```"
   ]
  },
  {
   "cell_type": "code",
   "execution_count": 24,
   "metadata": {},
   "outputs": [
    {
     "name": "stdout",
     "output_type": "stream",
     "text": [
      "Nature Prophet\n",
      "Nature Prophet\n",
      "None\n",
      "key tidak ditemukan\n"
     ]
    },
    {
     "ename": "KeyError",
     "evalue": "'furion'",
     "output_type": "error",
     "traceback": [
      "\u001b[1;31m---------------------------------------------------------------------------\u001b[0m",
      "\u001b[1;31mKeyError\u001b[0m                                  Traceback (most recent call last)",
      "Cell \u001b[1;32mIn[24], line 9\u001b[0m\n\u001b[0;32m      7\u001b[0m \u001b[39m# akan tampil 'key tidak ditemukan'\u001b[39;00m\n\u001b[0;32m      8\u001b[0m \u001b[39mprint\u001b[39m(data_dict\u001b[39m.\u001b[39mget(\u001b[39m'\u001b[39m\u001b[39mfurion\u001b[39m\u001b[39m'\u001b[39m, \u001b[39m'\u001b[39m\u001b[39mkey tidak ditemukan\u001b[39m\u001b[39m'\u001b[39m))\n\u001b[1;32m----> 9\u001b[0m \u001b[39mprint\u001b[39m(data_dict[\u001b[39m'\u001b[39;49m\u001b[39mfurion\u001b[39;49m\u001b[39m'\u001b[39;49m])  \u001b[39m# akan tampil error\u001b[39;00m\n",
      "\u001b[1;31mKeyError\u001b[0m: 'furion'"
     ]
    }
   ],
   "source": [
    "print(data_dict['Furion'])\n",
    "# equal to\n",
    "print(data_dict.get('Furion'))\n",
    "\n",
    "# jika key tidak ada\n",
    "print(data_dict.get('furion'))  # akan tampil None\n",
    "# akan tampil 'key tidak ditemukan'\n",
    "print(data_dict.get('furion', 'key tidak ditemukan'))\n",
    "print(data_dict['furion'])  # akan tampil error\n"
   ]
  },
  {
   "attachments": {},
   "cell_type": "markdown",
   "metadata": {},
   "source": [
    "## Update data"
   ]
  },
  {
   "cell_type": "code",
   "execution_count": null,
   "metadata": {},
   "outputs": [
    {
     "name": "stdout",
     "output_type": "stream",
     "text": [
      "{'Furion': 'Nature Prophet', 'Baratrum': 'Bus Malam', 'Traxex': 'Drow Ranger'}\n"
     ]
    }
   ],
   "source": [
    "data_dict['Baratrum'] = 'Bus Malam'\n",
    "print(data_dict)\n"
   ]
  },
  {
   "attachments": {},
   "cell_type": "markdown",
   "metadata": {},
   "source": [
    "## Menambah data"
   ]
  },
  {
   "cell_type": "code",
   "execution_count": 2,
   "metadata": {},
   "outputs": [
    {
     "name": "stdout",
     "output_type": "stream",
     "text": [
      "{'Furion': 'Nature Prophet', 'Baratrum': 'Spirit Breaker', 'Traxex': 'Drow Ranger', 'Xin': 'Ember Spirit'}\n",
      "{'Furion': 'Earth Spirit', 'Baratrum': 'Spirit Breaker', 'Traxex': 'Drow Ranger', 'Xin': 'Ember Spirit', 'Raijin': 'Storm spirit'}\n"
     ]
    }
   ],
   "source": [
    "# dengan membuat key yang belum ada\n",
    "data_dict['Xin'] = 'Ember Spirit'\n",
    "print(data_dict)\n",
    "\n",
    "# dengan menggunakan .update('key', 'value')\n",
    "data_dict.update({'Furion': 'Earth Spirit', 'Raijin': 'Storm spirit'})\n",
    "print(data_dict)\n"
   ]
  },
  {
   "attachments": {},
   "cell_type": "markdown",
   "metadata": {},
   "source": [
    "## Men-delete data"
   ]
  },
  {
   "cell_type": "code",
   "execution_count": 4,
   "metadata": {},
   "outputs": [
    {
     "name": "stdout",
     "output_type": "stream",
     "text": [
      "{'Furion': 'Earth Spirit', 'Baratrum': 'Spirit Breaker', 'Traxex': 'Drow Ranger', 'Xin': 'Ember Spirit'}\n"
     ]
    }
   ],
   "source": [
    "del data_dict['Raijin']\n",
    "print(data_dict)"
   ]
  }
 ],
 "metadata": {
  "kernelspec": {
   "display_name": "Python 3",
   "language": "python",
   "name": "python3"
  },
  "language_info": {
   "codemirror_mode": {
    "name": "ipython",
    "version": 3
   },
   "file_extension": ".py",
   "mimetype": "text/x-python",
   "name": "python",
   "nbconvert_exporter": "python",
   "pygments_lexer": "ipython3",
   "version": "3.11.1"
  },
  "orig_nbformat": 4,
  "vscode": {
   "interpreter": {
    "hash": "474eb3216d207aa7f7b3a1b2991999c3d509a0dfbf478bd144769e415689ff10"
   }
  }
 },
 "nbformat": 4,
 "nbformat_minor": 2
}
