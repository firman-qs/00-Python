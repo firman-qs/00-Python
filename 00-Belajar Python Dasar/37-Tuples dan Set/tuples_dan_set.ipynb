{
 "cells": [
  {
   "attachments": {},
   "cell_type": "markdown",
   "metadata": {},
   "source": [
    "# TUPLES DAN SET"
   ]
  },
  {
   "attachments": {},
   "cell_type": "markdown",
   "metadata": {},
   "source": [
    "## List\n",
    "+ menggunakan kurung siku"
   ]
  },
  {
   "cell_type": "code",
   "execution_count": 5,
   "metadata": {},
   "outputs": [
    {
     "name": "stdout",
     "output_type": "stream",
     "text": [
      "data: [1, 2, 3, 'string', True], tipe: <class 'list'>\n"
     ]
    }
   ],
   "source": [
    "data_list = [1, 2, 3, 'string', True]\n",
    "print(f\"data: { data_list }, tipe: {type(data_list)}\")\n"
   ]
  },
  {
   "attachments": {},
   "cell_type": "markdown",
   "metadata": {},
   "source": [
    "## Tuples\n",
    "+ menggunakan kurung biasa\n",
    "+ tidak dapat mengubah komponen (tidak support assignment)\n",
    "+ seperti versi constant dari ```list```"
   ]
  },
  {
   "cell_type": "code",
   "execution_count": 8,
   "metadata": {},
   "outputs": [
    {
     "name": "stdout",
     "output_type": "stream",
     "text": [
      "data: (1, 2, 3, 'string', True), tipe: <class 'tuple'>\n",
      "string\n"
     ]
    },
    {
     "ename": "TypeError",
     "evalue": "'tuple' object does not support item assignment",
     "output_type": "error",
     "traceback": [
      "\u001b[1;31m---------------------------------------------------------------------------\u001b[0m",
      "\u001b[1;31mTypeError\u001b[0m                                 Traceback (most recent call last)",
      "Cell \u001b[1;32mIn[8], line 5\u001b[0m\n\u001b[0;32m      2\u001b[0m \u001b[39mprint\u001b[39m(\u001b[39mf\u001b[39m\u001b[39m\"\u001b[39m\u001b[39mdata: \u001b[39m\u001b[39m{\u001b[39;00mdata_tuple\u001b[39m}\u001b[39;00m\u001b[39m, tipe: \u001b[39m\u001b[39m{\u001b[39;00m\u001b[39mtype\u001b[39m(data_tuple)\u001b[39m}\u001b[39;00m\u001b[39m\"\u001b[39m)\n\u001b[0;32m      3\u001b[0m \u001b[39mprint\u001b[39m(data_tuple[\u001b[39m3\u001b[39m])\n\u001b[1;32m----> 5\u001b[0m data_tuple[\u001b[39m2\u001b[39;49m] \u001b[39m=\u001b[39m \u001b[39m'\u001b[39m\u001b[39mTiga\u001b[39m\u001b[39m'\u001b[39m\n",
      "\u001b[1;31mTypeError\u001b[0m: 'tuple' object does not support item assignment"
     ]
    }
   ],
   "source": [
    "data_tuple = (1, 2, 3, 'string', True)\n",
    "print(f\"data: {data_tuple}, tipe: {type(data_tuple)}\")\n",
    "print(data_tuple[3])\n",
    "\n",
    "data_tuple[2] = 'Tiga'\n"
   ]
  },
  {
   "attachments": {},
   "cell_type": "markdown",
   "metadata": {},
   "source": [
    "## Set\n",
    "+ menggunakan kurung kurawal\n",
    "+ data *collection* yang tidak memiliki indeks"
   ]
  },
  {
   "cell_type": "code",
   "execution_count": 9,
   "metadata": {},
   "outputs": [
    {
     "name": "stdout",
     "output_type": "stream",
     "text": [
      "data: {1, 2, 3, 'strig'}, tipe: <class 'set'>\n"
     ]
    },
    {
     "ename": "TypeError",
     "evalue": "'set' object is not subscriptable",
     "output_type": "error",
     "traceback": [
      "\u001b[1;31m---------------------------------------------------------------------------\u001b[0m",
      "\u001b[1;31mTypeError\u001b[0m                                 Traceback (most recent call last)",
      "Cell \u001b[1;32mIn[9], line 3\u001b[0m\n\u001b[0;32m      1\u001b[0m data_set \u001b[39m=\u001b[39m {\u001b[39m1\u001b[39m, \u001b[39m2\u001b[39m, \u001b[39m3\u001b[39m, \u001b[39m'\u001b[39m\u001b[39mstrig\u001b[39m\u001b[39m'\u001b[39m, \u001b[39mTrue\u001b[39;00m}\n\u001b[0;32m      2\u001b[0m \u001b[39mprint\u001b[39m(\u001b[39mf\u001b[39m\u001b[39m\"\u001b[39m\u001b[39mdata: \u001b[39m\u001b[39m{\u001b[39;00mdata_set\u001b[39m}\u001b[39;00m\u001b[39m, tipe: \u001b[39m\u001b[39m{\u001b[39;00m\u001b[39mtype\u001b[39m(data_set)\u001b[39m}\u001b[39;00m\u001b[39m\"\u001b[39m)\n\u001b[1;32m----> 3\u001b[0m \u001b[39mprint\u001b[39m(data_set[\u001b[39m1\u001b[39;49m])\n",
      "\u001b[1;31mTypeError\u001b[0m: 'set' object is not subscriptable"
     ]
    }
   ],
   "source": [
    "data_set = {1, 2, 3, 'strig', True}\n",
    "print(f\"data: {data_set}, tipe: {type(data_set)}\")\n",
    "print(data_set[1])"
   ]
  }
 ],
 "metadata": {
  "kernelspec": {
   "display_name": "Python 3",
   "language": "python",
   "name": "python3"
  },
  "language_info": {
   "codemirror_mode": {
    "name": "ipython",
    "version": 3
   },
   "file_extension": ".py",
   "mimetype": "text/x-python",
   "name": "python",
   "nbconvert_exporter": "python",
   "pygments_lexer": "ipython3",
   "version": "3.11.1"
  },
  "orig_nbformat": 4,
  "vscode": {
   "interpreter": {
    "hash": "474eb3216d207aa7f7b3a1b2991999c3d509a0dfbf478bd144769e415689ff10"
   }
  }
 },
 "nbformat": 4,
 "nbformat_minor": 2
}
