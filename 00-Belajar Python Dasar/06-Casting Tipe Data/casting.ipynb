{
 "cells": [
  {
   "attachments": {},
   "cell_type": "markdown",
   "metadata": {},
   "source": [
    "# CASTING\n",
    "*mengubah tipe data*"
   ]
  },
  {
   "cell_type": "code",
   "execution_count": 12,
   "metadata": {},
   "outputs": [
    {
     "name": "stdout",
     "output_type": "stream",
     "text": [
      "============== Integer ==============\n",
      "data: 0 \ttipe: <class 'int'>\n",
      "-------------- casting --------------\n",
      "data: 0.0 \ttipe: <class 'float'>\n",
      "data: 0 \ttipe: <class 'str'>\n",
      "data: False \ttipe: <class 'bool'>\n",
      "\n"
     ]
    }
   ],
   "source": [
    "# casting integer\n",
    "print(\"============== Integer ==============\")\n",
    "data_integer = 0\n",
    "print(f\"data: {data_integer} \\ttipe: {type(data_integer)}\")\n",
    "print(\"-------------- casting --------------\")\n",
    "data_float = float(data_integer)\n",
    "data_string = str(data_integer)\n",
    "data_boolean = bool(data_integer) # bernilai False hanya jika int = 0\n",
    "print(f'''data: {data_float} \\ttipe: {type(data_float)}\n",
    "data: {data_string} \\ttipe: {type(data_string)}\n",
    "data: {data_boolean} \\ttipe: {type(data_boolean)}\n",
    "''')"
   ]
  },
  {
   "cell_type": "code",
   "execution_count": 2,
   "metadata": {},
   "outputs": [
    {
     "name": "stdout",
     "output_type": "stream",
     "text": [
      "=============== Float ===============\n",
      "data: 0.0001 \ttipe: <class 'float'>\n",
      "-------------- casting --------------\n",
      "data: 0 \ttipe: <class 'int'>\n",
      "data: 0.0001 \ttipe: <class 'str'>\n",
      "data: True \ttipe: <class 'bool'>\n",
      "\n"
     ]
    }
   ],
   "source": [
    "# casting float\n",
    "print(\"=============== Float ===============\")\n",
    "data_float = 0.0001\n",
    "print(f\"data: {data_float} \\ttipe: {type(data_float)}\")\n",
    "print(\"-------------- casting --------------\")\n",
    "data_integer = int(data_float) # dibulatkan kebawah\n",
    "data_string = str(data_float)\n",
    "data_boolean = bool(data_float) # hanya false ketika nilai 0.0\n",
    "print(f'''data: {data_integer} \\ttipe: {type(data_integer)}\n",
    "data: {data_string} \\ttipe: {type(data_string)}\n",
    "data: {data_boolean} \\ttipe: {type(data_boolean)}\n",
    "''')"
   ]
  },
  {
   "cell_type": "code",
   "execution_count": 18,
   "metadata": {},
   "outputs": [
    {
     "name": "stdout",
     "output_type": "stream",
     "text": [
      "=============== String ==============\n",
      "data: 4 \ttipe: <class 'str'>\n",
      "-------------- casting --------------\n",
      "data: 4 \ttipe: <class 'int'>\n",
      "data: 4.0 \ttipe: <class 'float'>\n",
      "data: True \ttipe: <class 'bool'>\n",
      "\n"
     ]
    }
   ],
   "source": [
    "# casting string\n",
    "print(\"=============== String ==============\")\n",
    "data_string = \"4\"\n",
    "print(f\"data: {data_string} \\ttipe: {type(data_string)}\")\n",
    "print(\"-------------- casting --------------\")\n",
    "data_integer = int(data_string) # hanya bisa jika string angka bulat\n",
    "data_float = float(data_string) # hanya bisa jika string angka\n",
    "data_boolean = bool(data_string) # bernilai false jika string kosong\n",
    "print(f'''data: {data_integer} \\ttipe: {type(data_integer)}\n",
    "data: {data_float} \\ttipe: {type(data_float)}\n",
    "data: {data_boolean} \\ttipe: {type(data_boolean)}\n",
    "''')"
   ]
  },
  {
   "cell_type": "code",
   "execution_count": 24,
   "metadata": {},
   "outputs": [
    {
     "name": "stdout",
     "output_type": "stream",
     "text": [
      "============== Boolean ==============\n",
      "data: False \ttipe: <class 'bool'>\n",
      "-------------- casting --------------\n",
      "data: 0 \ttipe: <class 'int'>\n",
      "data: 0.0 \ttipe: <class 'float'>\n",
      "data: False \ttipe: <class 'str'>\n",
      "\n"
     ]
    }
   ],
   "source": [
    "# casting Boolean\n",
    "print(\"============== Boolean ==============\")\n",
    "data_boolean = False\n",
    "print(f\"data: {data_boolean} \\ttipe: {type(data_boolean)}\")\n",
    "print(\"-------------- casting --------------\")\n",
    "data_integer = int(data_boolean) # true = 1, false = 0\n",
    "data_float = float(data_boolean) # true = 1.0, false = 0.0\n",
    "data_string = str(data_boolean) # selalu True dalam string\n",
    "print(f'''data: {data_integer} \\ttipe: {type(data_integer)}\n",
    "data: {data_float} \\ttipe: {type(data_float)}\n",
    "data: {data_string} \\ttipe: {type(data_string)}\n",
    "''')"
   ]
  }
 ],
 "metadata": {
  "kernelspec": {
   "display_name": "Python 3",
   "language": "python",
   "name": "python3"
  },
  "language_info": {
   "codemirror_mode": {
    "name": "ipython",
    "version": 3
   },
   "file_extension": ".py",
   "mimetype": "text/x-python",
   "name": "python",
   "nbconvert_exporter": "python",
   "pygments_lexer": "ipython3",
   "version": "3.11.1"
  },
  "orig_nbformat": 4,
  "vscode": {
   "interpreter": {
    "hash": "474eb3216d207aa7f7b3a1b2991999c3d509a0dfbf478bd144769e415689ff10"
   }
  }
 },
 "nbformat": 4,
 "nbformat_minor": 2
}
