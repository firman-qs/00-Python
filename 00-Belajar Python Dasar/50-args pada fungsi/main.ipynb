{
 "cells": [
  {
   "cell_type": "markdown",
   "metadata": {},
   "source": [
    "# *args pada fungsi"
   ]
  },
  {
   "cell_type": "code",
   "execution_count": 4,
   "metadata": {},
   "outputs": [
    {
     "name": "stdout",
     "output_type": "stream",
     "text": [
      "pudge punya tinggi 140 dan berat 100\n"
     ]
    }
   ],
   "source": [
    "# Fungsi dgn argumen biasa\n",
    "def fungsi(nama, tinggi, berat):\n",
    "    print(f\"{nama} punya tinggi {tinggi} dan berat {berat}\")\n",
    "\n",
    "fungsi('pudge',140,100)"
   ]
  },
  {
   "cell_type": "code",
   "execution_count": 8,
   "metadata": {},
   "outputs": [
    {
     "name": "stdout",
     "output_type": "stream",
     "text": [
      "rubick punya tinggi 170 dan berat 65\n"
     ]
    }
   ],
   "source": [
    "# Fungsi dengan argumen dalam list\n",
    "def fungsi(dotaHero):\n",
    "    data = dotaHero.copy()\n",
    "    nama = data[0]\n",
    "    tinggi = data[1]\n",
    "    berat = data[2]\n",
    "    print(f\"{nama} punya tinggi {tinggi} dan berat {berat}\")\n",
    "\n",
    "fungsi(['rubick',170,65])"
   ]
  },
  {
   "cell_type": "code",
   "execution_count": 9,
   "metadata": {},
   "outputs": [
    {
     "name": "stdout",
     "output_type": "stream",
     "text": [
      "Razor punya tinggi 170 dan berat 70\n"
     ]
    }
   ],
   "source": [
    "# Fungsi dengan *args\n",
    "def fungsi(*args):\n",
    "    nama = args[0]\n",
    "    tinggi = args[1]\n",
    "    berat = args[2]\n",
    "    print(f\"{nama} punya tinggi {tinggi} dan berat {berat}\")\n",
    "\n",
    "fungsi('Razor',170,70)"
   ]
  }
 ],
 "metadata": {
  "kernelspec": {
   "display_name": "Python 3.10.4 64-bit",
   "language": "python",
   "name": "python3"
  },
  "language_info": {
   "codemirror_mode": {
    "name": "ipython",
    "version": 3
   },
   "file_extension": ".py",
   "mimetype": "text/x-python",
   "name": "python",
   "nbconvert_exporter": "python",
   "pygments_lexer": "ipython3",
   "version": "3.10.4"
  },
  "orig_nbformat": 4,
  "vscode": {
   "interpreter": {
    "hash": "2571817fde71ff7edf4935d837ab8df7d2c06489efb4c3156ef054b1e72ce7cf"
   }
  }
 },
 "nbformat": 4,
 "nbformat_minor": 2
}
