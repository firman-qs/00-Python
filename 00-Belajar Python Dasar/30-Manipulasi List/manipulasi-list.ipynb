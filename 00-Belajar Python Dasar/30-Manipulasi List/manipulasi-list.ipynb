{
 "cells": [
  {
   "attachments": {},
   "cell_type": "markdown",
   "metadata": {},
   "source": [
    "# MANIPULASI LIST"
   ]
  },
  {
   "attachments": {},
   "cell_type": "markdown",
   "metadata": {},
   "source": [
    "## Mengambil data dari list"
   ]
  },
  {
   "cell_type": "code",
   "execution_count": 5,
   "metadata": {},
   "outputs": [
    {
     "name": "stdout",
     "output_type": "stream",
     "text": [
      "Lina\n",
      "Mirana\n",
      "Medusa\n"
     ]
    }
   ],
   "source": [
    "# mengambil data dari list\n",
    "data = [\"Lina\", \"Mirana\", \"Medusa\"]\n",
    "data_ke_0 = data[0]\n",
    "data_ke_1 = data[1]\n",
    "data_ke_min_1 = data[-1]\n",
    "\n",
    "print(data_ke_0)\n",
    "print(data_ke_1)\n",
    "print(data_ke_min_1)"
   ]
  },
  {
   "attachments": {},
   "cell_type": "markdown",
   "metadata": {},
   "source": [
    "## Mengambil panjang/jumlah data dari list"
   ]
  },
  {
   "cell_type": "code",
   "execution_count": 6,
   "metadata": {},
   "outputs": [
    {
     "name": "stdout",
     "output_type": "stream",
     "text": [
      "3\n"
     ]
    }
   ],
   "source": [
    "data = [\"Lina\", \"Mirana\", \"Medusa\"]\n",
    "panjang_data = len(data)\n",
    "print(panjang_data)"
   ]
  },
  {
   "attachments": {},
   "cell_type": "markdown",
   "metadata": {},
   "source": [
    " ## Manipulasi data list"
   ]
  },
  {
   "attachments": {},
   "cell_type": "markdown",
   "metadata": {},
   "source": [
    "### Menambah data"
   ]
  },
  {
   "cell_type": "code",
   "execution_count": 20,
   "metadata": {},
   "outputs": [
    {
     "name": "stdout",
     "output_type": "stream",
     "text": [
      "['Lina', 'Mirana', 'Medusa']\n",
      "['Lina', 'Mirana', 'Mars', 'Medusa']\n",
      "['Lina', 'Mirana', 'Mars', 'Medusa', 'Hoodwink']\n",
      "['Lina', 'Mirana', 'Mars', 'Medusa', 'Hoodwink', 'Ember', 'Void', 'Eerth', 'Storm']\n",
      "['Lina', 'Mirana', 'Mars', 'Medusa', 'Hoodwink', 'Ember', 'Void', 'Eerth', 'Storm']\n"
     ]
    }
   ],
   "source": [
    "data = [\"Lina\", \"Mirana\", \"Medusa\"]\n",
    "print(data)\n",
    "\n",
    "# menambahkan item pada list sesuai posisi\n",
    "data.insert(2, \"Mars\")\n",
    "print(data)\n",
    "\n",
    "# menambah di akhir list\n",
    "data.append(\"Hoodwink\")\n",
    "print(data)\n",
    "\n",
    "# menambahkan list dengan list\n",
    "data_baru = [\"Ember\", \"Void\", \"Eerth\", \"Storm\"]\n",
    "data.extend(data_baru)\n",
    "print(data)\n",
    "\n",
    "data = ['Lina', 'Mirana', 'Mars', 'Medusa', 'Hoodwink']\n",
    "data_baru = [\"Ember\", \"Void\", \"Eerth\", \"Storm\"]\n",
    "print(data+data_baru)"
   ]
  },
  {
   "attachments": {},
   "cell_type": "markdown",
   "metadata": {},
   "source": [
    "### Merubah data"
   ]
  },
  {
   "cell_type": "code",
   "execution_count": 14,
   "metadata": {},
   "outputs": [
    {
     "name": "stdout",
     "output_type": "stream",
     "text": [
      "['Lina', 'Mirana', 'Mars', 'Medusa', 'Hoodwink']\n",
      "['Lina', 'Mirana', 'Zeus', 'Medusa', 'Hoodwink']\n"
     ]
    }
   ],
   "source": [
    "# merubah data ke-[2] ('Mars') ke zeus\n",
    "data = ['Lina', 'Mirana', 'Mars', 'Medusa', 'Hoodwink']\n",
    "print(data)\n",
    "data[2] = \"Zeus\"\n",
    "print(data)"
   ]
  },
  {
   "attachments": {},
   "cell_type": "markdown",
   "metadata": {},
   "source": [
    "## Meremove data"
   ]
  },
  {
   "cell_type": "code",
   "execution_count": 21,
   "metadata": {},
   "outputs": [
    {
     "name": "stdout",
     "output_type": "stream",
     "text": [
      "['Lina', 'Mirana', 'Mars', 'Medusa', 'Hoodwink']\n",
      "['Lina', 'Mars', 'Medusa', 'Hoodwink']\n",
      "['Lina', 'Mars', 'Medusa']\n"
     ]
    }
   ],
   "source": [
    "# meremove data tertentu\n",
    "data = ['Lina', 'Mirana', 'Mars', 'Medusa', 'Hoodwink']\n",
    "print(data)\n",
    "data.remove(\"Mirana\")\n",
    "print(data)\n",
    "\n",
    "# meremove data paling belakang\n",
    "data.pop()\n",
    "print(data)"
   ]
  },
  {
   "cell_type": "markdown",
   "metadata": {},
   "source": []
  },
  {
   "cell_type": "code",
   "execution_count": null,
   "metadata": {},
   "outputs": [],
   "source": []
  }
 ],
 "metadata": {
  "kernelspec": {
   "display_name": "Python 3",
   "language": "python",
   "name": "python3"
  },
  "language_info": {
   "codemirror_mode": {
    "name": "ipython",
    "version": 3
   },
   "file_extension": ".py",
   "mimetype": "text/x-python",
   "name": "python",
   "nbconvert_exporter": "python",
   "pygments_lexer": "ipython3",
   "version": "3.11.1"
  },
  "orig_nbformat": 4,
  "vscode": {
   "interpreter": {
    "hash": "474eb3216d207aa7f7b3a1b2991999c3d509a0dfbf478bd144769e415689ff10"
   }
  }
 },
 "nbformat": 4,
 "nbformat_minor": 2
}
