{
 "cells": [
  {
   "cell_type": "markdown",
   "id": "9f78f120-6b7d-4eae-9ff4-63d7d68d2df7",
   "metadata": {},
   "source": [
    "# Default Argument Fungsi"
   ]
  },
  {
   "cell_type": "markdown",
   "id": "4d1ccebf-3aca-4b11-a17f-0565a9d967d3",
   "metadata": {},
   "source": [
    "#### Default argumen fungsi\n",
    "```python\n",
    "def fungsi(argumen): pass\n",
    "def fungsiDefaultArgumen(argumen = \"nilai default\"): pass # fungsi dengan default arguen\n",
    "```"
   ]
  },
  {
   "cell_type": "markdown",
   "id": "3f13e5fe-0e85-4497-993b-4d1c7f8e59dc",
   "metadata": {},
   "source": [
    "#### Contoh 1"
   ]
  },
  {
   "cell_type": "code",
   "execution_count": 2,
   "id": "2ca84a2f-edd5-48de-ae18-2662ca543797",
   "metadata": {},
   "outputs": [
    {
     "name": "stdout",
     "output_type": "stream",
     "text": [
      "Hello Ucup\n",
      "Hello Ganteng\n"
     ]
    }
   ],
   "source": [
    "def sayHello(nama = \"Ganteng\"):\n",
    "    print(f\"Hello {nama}\")\n",
    "\n",
    "sayHello(\"Ucup\") # menggunakan custom argumen\n",
    "sayHello() # menggunakan default argumen \"ganteng\""
   ]
  },
  {
   "cell_type": "markdown",
   "id": "305d3884-c273-4c2f-bc05-162e19a8b166",
   "metadata": {},
   "source": [
    "#### Contoh 2"
   ]
  },
  {
   "cell_type": "code",
   "execution_count": 6,
   "id": "b44e4d9f-ca8f-4690-9258-047cdca1e5cb",
   "metadata": {},
   "outputs": [
    {
     "name": "stdout",
     "output_type": "stream",
     "text": [
      "Weaver adalah Animalia\n",
      "io adalah Undefined\n"
     ]
    }
   ],
   "source": [
    "def dotaHeroKingdom(nama, kingdom=\"Undefined\"): # menggunakan custom dan default argumen\n",
    "    print(f\"{nama} adalah {kingdom}\")\n",
    "          \n",
    "dotaHeroKingdom(\"Weaver\",\"Animalia\")\n",
    "dotaHeroKingdom(\"io\")          "
   ]
  },
  {
   "cell_type": "markdown",
   "id": "7e771e0d-a41c-4315-b0d2-1269d0a1e7dd",
   "metadata": {},
   "source": [
    "#### Contoh 3"
   ]
  },
  {
   "cell_type": "code",
   "execution_count": 12,
   "id": "262230eb-daf9-4ff3-a6b4-f5bc888e6ad4",
   "metadata": {},
   "outputs": [
    {
     "name": "stdout",
     "output_type": "stream",
     "text": [
      "16\n"
     ]
    }
   ],
   "source": [
    "def hitungPangkat(angka, pangkat = 2):\n",
    "    print(f\"{angka**pangkat}\")\n",
    "\n",
    "hitungPangkat(pangkat=4, angka=2)"
   ]
  },
  {
   "cell_type": "markdown",
   "id": "43452f12-a7ab-4c21-8de7-e3be6072d6a4",
   "metadata": {},
   "source": [
    "#### Contoh 4"
   ]
  },
  {
   "cell_type": "code",
   "execution_count": 15,
   "id": "d97197b4-e3b9-439e-8944-cd5758377f4b",
   "metadata": {},
   "outputs": [
    {
     "name": "stdout",
     "output_type": "stream",
     "text": [
      "15\n",
      "20\n"
     ]
    }
   ],
   "source": [
    "def jumlah(input1=1,input2=2,input3=3,input4=4,input5=5):\n",
    "    print(input1+input2+input3+input4+input5)\n",
    "\n",
    "jumlah()\n",
    "jumlah(input1=6)"
   ]
  }
 ],
 "metadata": {
  "kernelspec": {
   "display_name": "Python 3 (ipykernel)",
   "language": "python",
   "name": "python3"
  },
  "language_info": {
   "codemirror_mode": {
    "name": "ipython",
    "version": 3
   },
   "file_extension": ".py",
   "mimetype": "text/x-python",
   "name": "python",
   "nbconvert_exporter": "python",
   "pygments_lexer": "ipython3",
   "version": "3.10.4"
  },
  "vscode": {
   "interpreter": {
    "hash": "2571817fde71ff7edf4935d837ab8df7d2c06489efb4c3156ef054b1e72ce7cf"
   }
  }
 },
 "nbformat": 4,
 "nbformat_minor": 5
}
