{
 "cells": [
  {
   "attachments": {},
   "cell_type": "markdown",
   "metadata": {},
   "source": [
    "# FOR LOOP (PERILANGAN)"
   ]
  },
  {
   "attachments": {},
   "cell_type": "markdown",
   "metadata": {},
   "source": [
    "## 1. Looping list"
   ]
  },
  {
   "cell_type": "code",
   "execution_count": 1,
   "metadata": {},
   "outputs": [
    {
     "name": "stdout",
     "output_type": "stream",
     "text": [
      "1\n",
      "2\n",
      "3\n",
      "4\n",
      "5\n"
     ]
    }
   ],
   "source": [
    "# looping list\n",
    "list_angka = [1,2,3,4,5]\n",
    "for i in list_angka:\n",
    "    print(i)"
   ]
  },
  {
   "attachments": {},
   "cell_type": "markdown",
   "metadata": {},
   "source": [
    "## 2. Looping dengan range"
   ]
  },
  {
   "cell_type": "code",
   "execution_count": 6,
   "metadata": {},
   "outputs": [
    {
     "name": "stdout",
     "output_type": "stream",
     "text": [
      "0\n",
      "1\n",
      "2\n",
      "3\n",
      "4\n",
      "~~~~~~~~~~\n",
      "5\n",
      "7\n",
      "9\n"
     ]
    }
   ],
   "source": [
    "range_angka = range(5) # angka dari 0 s.d. 4\n",
    "for i in range_angka:\n",
    "    print(i)\n",
    "\n",
    "print(10*\"~\")\n",
    "\n",
    "range_angka = range(5,10,2) # angka dari 5 s.d. 9 dengan loncat 2\n",
    "for i in range_angka:\n",
    "    print(i)"
   ]
  },
  {
   "attachments": {},
   "cell_type": "markdown",
   "metadata": {},
   "source": [
    "## 3. Looping string"
   ]
  },
  {
   "cell_type": "code",
   "execution_count": 8,
   "metadata": {},
   "outputs": [
    {
     "name": "stdout",
     "output_type": "stream",
     "text": [
      "s\n",
      "h\n",
      "a\n",
      "d\n",
      "o\n",
      "w\n",
      " \n",
      "f\n",
      "i\n",
      "e\n",
      "n\n",
      "d\n"
     ]
    }
   ],
   "source": [
    "data_str = \"shadow fiend\"\n",
    "for huruf in data_str:\n",
    "    print(huruf)"
   ]
  },
  {
   "attachments": {},
   "cell_type": "markdown",
   "metadata": {},
   "source": [
    "## 4. Bilangan ganjil dengan loop"
   ]
  },
  {
   "cell_type": "code",
   "execution_count": 10,
   "metadata": {},
   "outputs": [
    {
     "name": "stdout",
     "output_type": "stream",
     "text": [
      "1\n",
      "3\n",
      "7\n",
      "9\n"
     ]
    }
   ],
   "source": [
    "batas_akhir = 10\n",
    "kecuali = 5\n",
    "\n",
    "for angka in range(1,(batas_akhir+1)):\n",
    "    if ((angka%2) != 0) and (angka != kecuali):\n",
    "        print(angka)"
   ]
  },
  {
   "attachments": {},
   "cell_type": "markdown",
   "metadata": {},
   "source": [
    "## 5. Bilangan genap dengan for loop"
   ]
  },
  {
   "cell_type": "code",
   "execution_count": 11,
   "metadata": {},
   "outputs": [
    {
     "name": "stdout",
     "output_type": "stream",
     "text": [
      "2\n",
      "4\n",
      "6\n",
      "8\n",
      "10\n"
     ]
    }
   ],
   "source": [
    "batas_akhir = 10\n",
    "kecuali = 5\n",
    "\n",
    "for angka in range(1,(batas_akhir+1)):\n",
    "    if ((angka%2) == 0) and (angka != kecuali):\n",
    "        print(angka)"
   ]
  },
  {
   "attachments": {},
   "cell_type": "markdown",
   "metadata": {},
   "source": [
    "## 6. Bilangan prima dengan for loop"
   ]
  },
  {
   "cell_type": "code",
   "execution_count": 9,
   "metadata": {},
   "outputs": [
    {
     "name": "stdout",
     "output_type": "stream",
     "text": [
      "0 1 2 3 5 7 11 13 17 19 \n"
     ]
    }
   ],
   "source": [
    "batas_akhir = 20\n",
    "kecuali = 4\n",
    "list_prima = \"\"\n",
    "\n",
    "for angka in range(0, (batas_akhir+1)):\n",
    "    prima = True\n",
    "    for pembagi in range(2, angka):\n",
    "        if angka%pembagi == 0:\n",
    "            prima = False\n",
    "    if prima and angka != kecuali:\n",
    "        list_prima = list_prima + str(angka) + \" \" # tampilkan mendatar\n",
    "print(list_prima)"
   ]
  },
  {
   "cell_type": "code",
   "execution_count": 10,
   "metadata": {},
   "outputs": [
    {
     "name": "stdout",
     "output_type": "stream",
     "text": [
      "0 1 2 3 5 7 11 13 17 19 \n"
     ]
    }
   ],
   "source": [
    "batas_akhir = 20\n",
    "kecuali = 4\n",
    "\n",
    "bilangan_prima = \"\"\n",
    "\n",
    "for i in range(0,batas_akhir+1):\n",
    "    prima = True\n",
    "    for j in range(2,i):\n",
    "        if i%j==0:\n",
    "            prima=False\n",
    "    if prima and i!=kecuali:\n",
    "        bilangan_prima += f\"{i} \" \n",
    "print(bilangan_prima)"
   ]
  }
 ],
 "metadata": {
  "kernelspec": {
   "display_name": "Python 3",
   "language": "python",
   "name": "python3"
  },
  "language_info": {
   "codemirror_mode": {
    "name": "ipython",
    "version": 3
   },
   "file_extension": ".py",
   "mimetype": "text/x-python",
   "name": "python",
   "nbconvert_exporter": "python",
   "pygments_lexer": "ipython3",
   "version": "3.11.2"
  },
  "orig_nbformat": 4,
  "vscode": {
   "interpreter": {
    "hash": "474eb3216d207aa7f7b3a1b2991999c3d509a0dfbf478bd144769e415689ff10"
   }
  }
 },
 "nbformat": 4,
 "nbformat_minor": 2
}
