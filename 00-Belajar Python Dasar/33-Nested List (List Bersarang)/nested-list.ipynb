{
 "cells": [
  {
   "cell_type": "markdown",
   "metadata": {
    "tags": []
   },
   "source": [
    "# NESTED LIST"
   ]
  },
  {
   "cell_type": "markdown",
   "metadata": {
    "tags": []
   },
   "source": [
    "## List Biasa"
   ]
  },
  {
   "cell_type": "code",
   "execution_count": 13,
   "metadata": {},
   "outputs": [
    {
     "name": "stdout",
     "output_type": "stream",
     "text": [
      "list biasa: [1, 2, 'data 3', True]\n"
     ]
    }
   ],
   "source": [
    "list_biasa = [1,2,'data 3', True]\n",
    "print(f'list biasa: {list_biasa}')"
   ]
  },
  {
   "cell_type": "markdown",
   "metadata": {},
   "source": [
    "## Nested List"
   ]
  },
  {
   "cell_type": "code",
   "execution_count": 2,
   "metadata": {},
   "outputs": [
    {
     "name": "stdout",
     "output_type": "stream",
     "text": [
      "nested list: [['Ucup', 2021, 'Fisika'], ['Otong', 2022, 'Kimia'], ['Dudung', 2019, 'Biologi']]\n",
      "\n",
      " Kimia\n",
      "\n",
      "============ daftar mahasiswa ============\n",
      "nama\t\tangkatan\tdepartemen\n",
      "------------------------------------------\n",
      "Ucup\t\t2021\t\tFisika\n",
      "Otong\t\t2022\t\tKimia\n",
      "Dudung\t\t2019\t\tBiologi\n"
     ]
    }
   ],
   "source": [
    "sub_list_1 = ['Ucup', 2021, 'Fisika']\n",
    "sub_list_2 = ['Otong', 2022, 'Kimia']\n",
    "sub_list_3 = ['Dudung', 2019, 'Biologi']\n",
    "\n",
    "list_fmipa = [sub_list_1, sub_list_2, sub_list_3]\n",
    "print(f'nested list: {list_fmipa}')\n",
    "\n",
    "print(\"\\n\", list_fmipa[1][2])\n",
    "\n",
    "# print nested list dengan looping\n",
    "print(f\"\\n{' daftar mahasiswa '.center(42, '=')}\\nnama\\t\\tangkatan\\tdepartemen\\n{42*'-'}\")\n",
    "for mahasiswa in list_fmipa:\n",
    "    print(f'{mahasiswa[0]}\\t\\t{mahasiswa[1]}\\t\\t{mahasiswa[2]}')\n"
   ]
  },
  {
   "cell_type": "markdown",
   "metadata": {
    "tags": []
   },
   "source": [
    "### Permasalahan reference -> untuk melakukan copy"
   ]
  },
  {
   "cell_type": "code",
   "execution_count": 1,
   "metadata": {},
   "outputs": [
    {
     "name": "stdout",
     "output_type": "stream",
     "text": [
      "list_fmipa\t: [['Ucup', 2021, 'Fisika'], ['Otong', 2022, 'Kimia'], ['Dudung', 2019, 'Biologi']]\n",
      "list_fmipa_copy\t: [['Ucup', 2021, 'Fisika'], ['Otong', 2022, 'Kimia'], ['Dudung', 2019, 'Biologi']]\n",
      "\n",
      "list_fmipa\t: [['Asep', 2021, 'Fisika'], ['Otong', 2022, 'Kimia'], ['Dudung', 2019, 'Biologi']]\n",
      "list_fmipa_copy\t: [['Asep', 2021, 'Fisika'], ['Otong', 2022, 'Kimia'], ['Dudung', 2019, 'Biologi']]\n"
     ]
    }
   ],
   "source": [
    "sub_list_1 = ['Ucup', 2021, 'Fisika']\n",
    "sub_list_2 = ['Otong', 2022, 'Kimia']\n",
    "sub_list_3 = ['Dudung', 2019, 'Biologi']\n",
    "\n",
    "list_fmipa = [sub_list_1, sub_list_2, sub_list_3]\n",
    "list_fmipa_copy = list_fmipa.copy()\n",
    "\n",
    "print(f'list_fmipa\\t: {list_fmipa}')\n",
    "print(f'list_fmipa_copy\\t: {list_fmipa_copy}')\n",
    "\n",
    "# mengubah list copy\n",
    "list_fmipa_copy[0][0] = 'Asep'\n",
    "\n",
    "print(f'\\nlist_fmipa\\t: {list_fmipa}') # list_fmipa juga berubah\n",
    "print(f'list_fmipa_copy\\t: {list_fmipa_copy}')\n"
   ]
  },
  {
   "cell_type": "code",
   "execution_count": null,
   "metadata": {},
   "outputs": [],
   "source": []
  }
 ],
 "metadata": {
  "kernelspec": {
   "display_name": "Python 3 (ipykernel)",
   "language": "python",
   "name": "python3"
  },
  "language_info": {
   "codemirror_mode": {
    "name": "ipython",
    "version": 3
   },
   "file_extension": ".py",
   "mimetype": "text/x-python",
   "name": "python",
   "nbconvert_exporter": "python",
   "pygments_lexer": "ipython3",
   "version": "3.11.1"
  },
  "vscode": {
   "interpreter": {
    "hash": "474eb3216d207aa7f7b3a1b2991999c3d509a0dfbf478bd144769e415689ff10"
   }
  }
 },
 "nbformat": 4,
 "nbformat_minor": 4
}
