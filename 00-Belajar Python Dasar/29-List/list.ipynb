{
 "cells": [
  {
   "attachments": {},
   "cell_type": "markdown",
   "metadata": {},
   "source": [
    "# LIST\n",
    "*kumpulan data*"
   ]
  },
  {
   "cell_type": "code",
   "execution_count": 6,
   "metadata": {},
   "outputs": [
    {
     "name": "stdout",
     "output_type": "stream",
     "text": [
      "[1, 2, 3, 4, 5]\n",
      "['Furion', 'Baratrum', 'Selemene']\n",
      "[True, False, True, False]\n",
      "[1, 'furion', True, False]\n"
     ]
    }
   ],
   "source": [
    "# kumpulan data numbers\n",
    "data_angka = [1,2,3,4,5]\n",
    "print(data_angka)\n",
    "\n",
    "# kumpulan data string\n",
    "data_string = [\"Furion\", \"Baratrum\", \"Selemene\"]\n",
    "print(data_string)\n",
    "\n",
    "# kumpulan data boolean\n",
    "data_boolean = [True, False, True, False]\n",
    "print(data_boolean)\n",
    "\n",
    "# kumpulan data campuran\n",
    "data_campuran = [1, 'furion', True, False]\n",
    "print(data_campuran)"
   ]
  },
  {
   "attachments": {},
   "cell_type": "markdown",
   "metadata": {},
   "source": [
    "## Cara alternative membuat list"
   ]
  },
  {
   "cell_type": "code",
   "execution_count": 8,
   "metadata": {},
   "outputs": [
    {
     "name": "stdout",
     "output_type": "stream",
     "text": [
      "range(0, 10)\n",
      "[0, 1, 2, 3, 4, 5, 6, 7, 8, 9]\n",
      "[0, 1, 2, 3, 4]\n"
     ]
    }
   ],
   "source": [
    "data_range = range(0,10)\n",
    "print(data_range)\n",
    "data_list = list(data_range)\n",
    "print(data_list)"
   ]
  },
  {
   "attachments": {},
   "cell_type": "markdown",
   "metadata": {},
   "source": [
    "## Membuat list dengan ```for``` loop (*list comprehension*)"
   ]
  },
  {
   "cell_type": "code",
   "execution_count": 10,
   "metadata": {},
   "outputs": [
    {
     "name": "stdout",
     "output_type": "stream",
     "text": [
      "[0, 1, 2, 3, 4, 5, 6, 7, 8, 9]\n",
      "[0, 1, 4, 9, 16, 25, 36, 49, 64, 81]\n"
     ]
    }
   ],
   "source": [
    "data_list_dengan_for = [x for x in range(10)]\n",
    "print(data_list_dengan_for)\n",
    "\n",
    "# kuadratkan\n",
    "data_list_dengan_for = [x**2 for x in range(10)]\n",
    "print(data_list_dengan_for)"
   ]
  },
  {
   "attachments": {},
   "cell_type": "markdown",
   "metadata": {},
   "source": [
    "## Membuat list dengan ```for``` dan ```if```"
   ]
  },
  {
   "cell_type": "code",
   "execution_count": 11,
   "metadata": {},
   "outputs": [
    {
     "name": "stdout",
     "output_type": "stream",
     "text": [
      "[1, 3, 5, 7, 9]\n"
     ]
    }
   ],
   "source": [
    "data_list_dengan_for_if = [x for x in range(10) if x % 2 != 0]\n",
    "print(data_list_dengan_for_if)"
   ]
  }
 ],
 "metadata": {
  "kernelspec": {
   "display_name": "Python 3",
   "language": "python",
   "name": "python3"
  },
  "language_info": {
   "codemirror_mode": {
    "name": "ipython",
    "version": 3
   },
   "file_extension": ".py",
   "mimetype": "text/x-python",
   "name": "python",
   "nbconvert_exporter": "python",
   "pygments_lexer": "ipython3",
   "version": "3.11.1"
  },
  "orig_nbformat": 4,
  "vscode": {
   "interpreter": {
    "hash": "474eb3216d207aa7f7b3a1b2991999c3d509a0dfbf478bd144769e415689ff10"
   }
  }
 },
 "nbformat": 4,
 "nbformat_minor": 2
}
