{
 "cells": [
  {
   "attachments": {},
   "cell_type": "markdown",
   "metadata": {},
   "source": [
    "## Variabel\n",
    "variabel adalah tempat menyimpan data"
   ]
  },
  {
   "cell_type": "code",
   "execution_count": 3,
   "metadata": {},
   "outputs": [],
   "source": [
    "# variabel a di-assign dengan value 10\n",
    "a = 10\n",
    "\n",
    "# penamaan variabel\n",
    "# tidak menggunakan spasi, gunakan underscore atau camelcase\n",
    "variabel_pertama = 12.3\n",
    "variabelKedua = 20\n",
    "# tidak menggunakan angka di bagian depan\n",
    "# 10juta = 10000000 <== ini tidak boleh\n",
    "juta10 = 10000000 # <== ini boleh\n",
    "\n",
    "# lihat tipe data dari variabel-variabel diatas menggunakan jupyter: variable"
   ]
  }
 ],
 "metadata": {
  "kernelspec": {
   "display_name": "Python 3",
   "language": "python",
   "name": "python3"
  },
  "language_info": {
   "codemirror_mode": {
    "name": "ipython",
    "version": 3
   },
   "file_extension": ".py",
   "mimetype": "text/x-python",
   "name": "python",
   "nbconvert_exporter": "python",
   "pygments_lexer": "ipython3",
   "version": "3.11.1"
  },
  "orig_nbformat": 4,
  "vscode": {
   "interpreter": {
    "hash": "474eb3216d207aa7f7b3a1b2991999c3d509a0dfbf478bd144769e415689ff10"
   }
  }
 },
 "nbformat": 4,
 "nbformat_minor": 2
}
