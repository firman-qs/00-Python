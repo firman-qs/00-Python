{
 "cells": [
  {
   "attachments": {},
   "cell_type": "markdown",
   "metadata": {},
   "source": [
    "# Format String"
   ]
  },
  {
   "attachments": {},
   "cell_type": "markdown",
   "metadata": {},
   "source": [
    "## 1. **subtitusi variabel** dengan format string"
   ]
  },
  {
   "cell_type": "code",
   "execution_count": 6,
   "metadata": {},
   "outputs": [
    {
     "name": "stdout",
     "output_type": "stream",
     "text": [
      "hallo Ucup\n",
      "boolean = True\n",
      "angka = 19.5\n"
     ]
    }
   ],
   "source": [
    "# string\n",
    "string = \"Ucup\"\n",
    "format_str = f\"hallo {string}\"\n",
    "print(format_str)\n",
    "\n",
    "# boolean\n",
    "boolean = True\n",
    "format_str = f\"boolean = {boolean}\"\n",
    "print(format_str)\n",
    "\n",
    "# angka\n",
    "angka = 19.5\n",
    "format_str = f\"angka = {angka}\"\n",
    "print(format_str)\n"
   ]
  },
  {
   "attachments": {},
   "cell_type": "markdown",
   "metadata": {},
   "source": [
    "## 2. Bilangan **bulat**"
   ]
  },
  {
   "cell_type": "code",
   "execution_count": 14,
   "metadata": {},
   "outputs": [
    {
     "name": "stdout",
     "output_type": "stream",
     "text": [
      "jutaan = 19\n"
     ]
    }
   ],
   "source": [
    "# bilangan bulat\n",
    "jutaan = 19 # sembilan belas juta dua ratus koma dua tiga\n",
    "format_str = f\"jutaan = {jutaan:d}\"\n",
    "print(format_str)"
   ]
  },
  {
   "attachments": {},
   "cell_type": "markdown",
   "metadata": {},
   "source": [
    "## 3. Bilangan dengan **ordo ribuan**"
   ]
  },
  {
   "cell_type": "code",
   "execution_count": 8,
   "metadata": {},
   "outputs": [
    {
     "name": "stdout",
     "output_type": "stream",
     "text": [
      "jutaan = 19,200,000.23\n"
     ]
    }
   ],
   "source": [
    "# jutaan\n",
    "jutaan = 19200000.23 # sembilan belas juta dua ratus koma dua tiga\n",
    "format_str = f\"jutaan = {jutaan:,}\"\n",
    "print(format_str)"
   ]
  },
  {
   "attachments": {},
   "cell_type": "markdown",
   "metadata": {},
   "source": [
    "## 4. Bilangan **desimal**"
   ]
  },
  {
   "cell_type": "code",
   "execution_count": 17,
   "metadata": {},
   "outputs": [
    {
     "name": "stdout",
     "output_type": "stream",
     "text": [
      "desimal = 1.673\n"
     ]
    }
   ],
   "source": [
    "# desimal\n",
    "desimal = 1.67262 # sembilan belas juta dua ratus koma dua tiga\n",
    "format_str = f\"desimal = {desimal:.3f}\" # 3 angka float (dibelakang koma)\n",
    "print(format_str)"
   ]
  },
  {
   "attachments": {},
   "cell_type": "markdown",
   "metadata": {},
   "source": [
    "## 5. Menampilkan **leading zero**"
   ]
  },
  {
   "cell_type": "code",
   "execution_count": 19,
   "metadata": {},
   "outputs": [
    {
     "name": "stdout",
     "output_type": "stream",
     "text": [
      "desimal = 00001.673\n"
     ]
    }
   ],
   "source": [
    "# leading zero\n",
    "desimal = 1.67262 # sembilan belas juta dua ratus koma dua tiga\n",
    "format_str = f\"desimal = {desimal:09.3f}\" # 9 digit angka\n",
    "print(format_str)"
   ]
  },
  {
   "attachments": {},
   "cell_type": "markdown",
   "metadata": {},
   "source": [
    "## 6. Menampilkan tanda **+/-**"
   ]
  },
  {
   "cell_type": "code",
   "execution_count": 29,
   "metadata": {},
   "outputs": [
    {
     "name": "stdout",
     "output_type": "stream",
     "text": [
      "elektron = -1.6\n",
      "proton = +1.6\n"
     ]
    }
   ],
   "source": [
    "elektron = -1.602 \n",
    "format_str = f\"elektron = {elektron:+.1f}\"\n",
    "print(format_str)\n",
    "proton = 1.602 \n",
    "format_str = f\"proton = {proton:+.1f}\"\n",
    "print(format_str)"
   ]
  },
  {
   "attachments": {},
   "cell_type": "markdown",
   "metadata": {},
   "source": [
    "## 7. Memformat **persen**"
   ]
  },
  {
   "cell_type": "code",
   "execution_count": 40,
   "metadata": {},
   "outputs": [
    {
     "name": "stdout",
     "output_type": "stream",
     "text": [
      "persen = 06.86%\n"
     ]
    }
   ],
   "source": [
    "persen = 0.0685745 # sembilan belas juta dua ratus koma dua tiga\n",
    "format_str = f\"persen = {persen:06.2%}\" # 9 digit angka\n",
    "print(format_str)"
   ]
  },
  {
   "attachments": {},
   "cell_type": "markdown",
   "metadata": {},
   "source": [
    "## 8. Melakukan operasi aritmatika di dalam ***```{}```***"
   ]
  },
  {
   "cell_type": "code",
   "execution_count": 41,
   "metadata": {},
   "outputs": [
    {
     "name": "stdout",
     "output_type": "stream",
     "text": [
      "lima kuadrat = 25\n"
     ]
    }
   ],
   "source": [
    "print(f\"lima kuadrat = {5**2}\")"
   ]
  },
  {
   "attachments": {},
   "cell_type": "markdown",
   "metadata": {},
   "source": [
    "## 9. Format angka lain ***binary***, ***octal***, ***hexadecimal***"
   ]
  },
  {
   "cell_type": "code",
   "execution_count": 42,
   "metadata": {},
   "outputs": [
    {
     "name": "stdout",
     "output_type": "stream",
     "text": [
      "binary = 0b11111111\n",
      "octal = 0o377\n",
      "hexa = 0xff\n"
     ]
    }
   ],
   "source": [
    "angka = 255\n",
    "format_binary = f\"binary = {bin(angka)}\"\n",
    "format_octal = f\"octal = {oct(angka)}\"\n",
    "format_hexa = f\"hexa = {hex(angka)}\"\n",
    "\n",
    "print(format_binary)\n",
    "print(format_octal)\n",
    "print(format_hexa)"
   ]
  }
 ],
 "metadata": {
  "kernelspec": {
   "display_name": "Python 3",
   "language": "python",
   "name": "python3"
  },
  "language_info": {
   "codemirror_mode": {
    "name": "ipython",
    "version": 3
   },
   "file_extension": ".py",
   "mimetype": "text/x-python",
   "name": "python",
   "nbconvert_exporter": "python",
   "pygments_lexer": "ipython3",
   "version": "3.11.1"
  },
  "orig_nbformat": 4,
  "vscode": {
   "interpreter": {
    "hash": "474eb3216d207aa7f7b3a1b2991999c3d509a0dfbf478bd144769e415689ff10"
   }
  }
 },
 "nbformat": 4,
 "nbformat_minor": 2
}
