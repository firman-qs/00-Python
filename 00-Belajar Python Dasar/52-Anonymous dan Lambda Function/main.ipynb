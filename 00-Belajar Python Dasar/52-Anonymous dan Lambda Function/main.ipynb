{
 "cells": [
  {
   "attachments": {},
   "cell_type": "markdown",
   "metadata": {},
   "source": [
    "<h1 style=\"font-weight:bold; letter-spacing:4px; font-family:Cascadia code; Text-Align:Center; line-height:15px\">LAMBDA FUNCTION</h1>\n",
    "<hr>\n"
   ]
  },
  {
   "cell_type": "code",
   "execution_count": 3,
   "metadata": {},
   "outputs": [
    {
     "name": "stdout",
     "output_type": "stream",
     "text": [
      "hasil kuadrat = 9\n"
     ]
    }
   ],
   "source": [
    "# function\n",
    "# def output(Argument): expression\n",
    "def fungsiKuadrat(angka):\n",
    "    return angka**2\n",
    "\n",
    "print(f\"hasil kuadrat = {fungsiKuadrat(3)}\")"
   ]
  },
  {
   "cell_type": "code",
   "execution_count": 4,
   "metadata": {},
   "outputs": [
    {
     "name": "stdout",
     "output_type": "stream",
     "text": [
      "hasil kuadrat = 9\n"
     ]
    }
   ],
   "source": [
    "# lambda function\n",
    "# output = lambda argument: expression(return)\n",
    "lambdaKuadrat = lambda angka: angka**2\n",
    "\n",
    "print(f\"hasil kuadrat = {lambdaKuadrat(3)}\")\n"
   ]
  },
  {
   "cell_type": "code",
   "execution_count": 1,
   "metadata": {},
   "outputs": [
    {
     "name": "stdout",
     "output_type": "stream",
     "text": [
      "Fungsi Biasa: [0, 2, 4, 6, 8]\n",
      "Fungsi Lambda: [0, 2, 4, 6, 8]\n"
     ]
    }
   ],
   "source": [
    "data_angka = list(range(10))\n",
    "DATA_ANGKA = list(range(10))\n",
    "\n",
    "# contoh penggunaan function biasa\n",
    "def genap(angka):\n",
    "    return (angka%2==0)\n",
    "\n",
    "data_angka_genap1 = list(filter(genap, data_angka))\n",
    "print(f\"Fungsi Biasa: {data_angka_genap1}\")\n",
    "\n",
    "\n",
    "# Contoh penggunaan lambda function\n",
    "data_angka_genap2 = list(filter(lambda angka:(angka%2==0), data_angka))\n",
    "print(f\"Fungsi Lambda: {data_angka_genap2}\")\n"
   ]
  },
  {
   "attachments": {},
   "cell_type": "markdown",
   "metadata": {},
   "source": [
    "<h1 style=\"font-weight:bold; letter-spacing:4px; font-family:Consolas; Text-Align:Center; line-height:15px\">ANONYMOUS FUNCTION</h1>\n",
    "<hr>\n",
    "\n",
    "*currying <- Haskell Curry*"
   ]
  },
  {
   "cell_type": "code",
   "execution_count": 24,
   "metadata": {},
   "outputs": [
    {
     "name": "stdout",
     "output_type": "stream",
     "text": [
      "9\n"
     ]
    }
   ],
   "source": [
    "# Contoh \n",
    "# anonymous function\n",
    "def pangkat(n):\n",
    "    return lambda x:x**n\n",
    "\n",
    "print(f\"{pangkat(2)(3)}\") # pangkat2 dari 3"
   ]
  }
 ],
 "metadata": {
  "kernelspec": {
   "display_name": "Python 3",
   "language": "python",
   "name": "python3"
  },
  "language_info": {
   "codemirror_mode": {
    "name": "ipython",
    "version": 3
   },
   "file_extension": ".py",
   "mimetype": "text/x-python",
   "name": "python",
   "nbconvert_exporter": "python",
   "pygments_lexer": "ipython3",
   "version": "3.11.1"
  },
  "orig_nbformat": 4,
  "vscode": {
   "interpreter": {
    "hash": "474eb3216d207aa7f7b3a1b2991999c3d509a0dfbf478bd144769e415689ff10"
   }
  }
 },
 "nbformat": 4,
 "nbformat_minor": 2
}
