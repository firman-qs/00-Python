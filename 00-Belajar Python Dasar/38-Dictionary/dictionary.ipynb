{
 "cells": [
  {
   "attachments": {},
   "cell_type": "markdown",
   "metadata": {},
   "source": [
    "# DICTIONARY\n",
    "*associative array* --> access data using identifier ```key``` instead of ```index```\n",
    "\n",
    "```python\n",
    "data_dictionary = {\n",
    "    \"key_1\" : \"value_1\",\n",
    "    \"key_2\" : \"value_2\",\n",
    "    \"key_3\" : \"value_3\",\n",
    "}"
   ]
  },
  {
   "cell_type": "code",
   "execution_count": 9,
   "metadata": {},
   "outputs": [
    {
     "name": "stdout",
     "output_type": "stream",
     "text": [
      "{'Furion': 'Nature Prophet', 'Barathrum': 'Spirit Breaker', 'Lina': ['intellegence', 540, True], 'Earthshaker': {'attribute': 'strength', 'base_hp': 550, 'ranged': False}}\n",
      "Nature Prophet\n",
      "intellegence\n",
      "550\n"
     ]
    }
   ],
   "source": [
    "data_hero = {\n",
    "    'Furion': 'Nature Prophet',\n",
    "    'Barathrum': 'Spirit Breaker',\n",
    "    'Lina': ['intellegence', 540, True],\n",
    "    'Earthshaker': {\n",
    "        'attribute': 'strength',\n",
    "        'base_hp': 550,\n",
    "        'ranged': False\n",
    "    } \n",
    "}\n",
    "\n",
    "print(data_hero)\n",
    "print(data_hero['Furion'])\n",
    "print(data_hero['Lina'][0])\n",
    "print(data_hero['Earthshaker']['base_hp'])"
   ]
  }
 ],
 "metadata": {
  "kernelspec": {
   "display_name": "Python 3",
   "language": "python",
   "name": "python3"
  },
  "language_info": {
   "codemirror_mode": {
    "name": "ipython",
    "version": 3
   },
   "file_extension": ".py",
   "mimetype": "text/x-python",
   "name": "python",
   "nbconvert_exporter": "python",
   "pygments_lexer": "ipython3",
   "version": "3.11.1"
  },
  "orig_nbformat": 4,
  "vscode": {
   "interpreter": {
    "hash": "474eb3216d207aa7f7b3a1b2991999c3d509a0dfbf478bd144769e415689ff10"
   }
  }
 },
 "nbformat": 4,
 "nbformat_minor": 2
}
