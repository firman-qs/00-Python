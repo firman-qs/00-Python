{
 "cells": [
  {
   "cell_type": "markdown",
   "metadata": {},
   "source": [
    "# Type Hints pada Fungsi\n",
    "\n",
    "* Bentuk Standar Fungsi\n",
    "    ```python\n",
    "    def fungsi(parameter): pass\n",
    "    ```\n",
    "\n",
    "* Fungsi dengan Type Hints\n",
    "    ```python\n",
    "    def fungsi(parameter:type) -> type: pass #hint untuk parameter\n",
    "    ```"
   ]
  },
  {
   "cell_type": "code",
   "execution_count": 1,
   "metadata": {},
   "outputs": [
    {
     "name": "stdout",
     "output_type": "stream",
     "text": [
      "36\n"
     ]
    }
   ],
   "source": [
    "# Contoh\n",
    "def kuadratDari(argumen:int)->int:\n",
    "    return argumen**2\n",
    "\n",
    "def kuadrat(argumen):\n",
    "    return argumen**2\n",
    "\n",
    "hasil = kuadratDari(6) # hover pada fungsi utk melihat hint\n",
    "hasil2 = kuadrat(6) # tanpa type hints\n",
    "print(hasil)\n",
    "# kuadratDari('hahaha') # tdk menunjukkan error"
   ]
  }
 ],
 "metadata": {
  "kernelspec": {
   "display_name": "Python 3",
   "language": "python",
   "name": "python3"
  },
  "language_info": {
   "codemirror_mode": {
    "name": "ipython",
    "version": 3
   },
   "file_extension": ".py",
   "mimetype": "text/x-python",
   "name": "python",
   "nbconvert_exporter": "python",
   "pygments_lexer": "ipython3",
   "version": "3.11.1"
  },
  "orig_nbformat": 4,
  "vscode": {
   "interpreter": {
    "hash": "474eb3216d207aa7f7b3a1b2991999c3d509a0dfbf478bd144769e415689ff10"
   }
  }
 },
 "nbformat": 4,
 "nbformat_minor": 2
}
