{
 "cells": [
  {
   "cell_type": "markdown",
   "metadata": {},
   "source": [
    "# Type Hints pada Fungsi\n",
    "\n",
    "* Bentuk Standar Fungsi\n",
    "    ```python\n",
    "    def fungsi(parameter): pass\n",
    "    ```\n",
    "\n",
    "* Fungsi dengan Type Hints\n",
    "    ```python\n",
    "    def fungsi(parameter:type) -> type: pass #hint untuk parameter\n",
    "    ```"
   ]
  },
  {
   "cell_type": "code",
   "execution_count": 6,
   "metadata": {},
   "outputs": [
    {
     "name": "stdout",
     "output_type": "stream",
     "text": [
      "36\n"
     ]
    }
   ],
   "source": [
    "# Contoh\n",
    "def kuadratDari(argumen:int)->int:\n",
    "    return argumen**2\n",
    "\n",
    "hasil = kuadratDari(6) # hover pada fungsi utk melihat hint\n",
    "print(hasil)\n",
    "# kuadratDari('hahaha') # tdk menunjukkan error"
   ]
  }
 ],
 "metadata": {
  "kernelspec": {
   "display_name": "Python 3.10.4 ('.venv': venv)",
   "language": "python",
   "name": "python3"
  },
  "language_info": {
   "codemirror_mode": {
    "name": "ipython",
    "version": 3
   },
   "file_extension": ".py",
   "mimetype": "text/x-python",
   "name": "python",
   "nbconvert_exporter": "python",
   "pygments_lexer": "ipython3",
   "version": "3.10.4"
  },
  "orig_nbformat": 4,
  "vscode": {
   "interpreter": {
    "hash": "3fcab89968845809c3cd323ba3c09a8ae3eabce51b576a9bad8b3f9cc7abe753"
   }
  }
 },
 "nbformat": 4,
 "nbformat_minor": 2
}
