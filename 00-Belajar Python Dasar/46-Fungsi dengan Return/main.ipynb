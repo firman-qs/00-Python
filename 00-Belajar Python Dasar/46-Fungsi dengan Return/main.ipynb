{
 "cells": [
  {
   "cell_type": "markdown",
   "metadata": {},
   "source": [
    "---\n",
    "# Fungsi Dengan Return\n",
    "---\n",
    "template\n",
    ">    ```python\n",
    ">\n",
    ">    def kuadrat(x):\n",
    ">        return x**2\n",
    ">\n",
    ">    print(kuadrat(2)) \n",
    ">\n",
    ">    ```\n",
    "\n",
    "Output\n",
    "> 4\n",
    "___"
   ]
  },
  {
   "cell_type": "markdown",
   "metadata": {},
   "source": [
    "### Fungsi Kuadrat"
   ]
  },
  {
   "cell_type": "code",
   "execution_count": 1,
   "metadata": {},
   "outputs": [
    {
     "name": "stdout",
     "output_type": "stream",
     "text": [
      "============ Fungsi Kuadrat ============\n",
      "kuadrat 4 = 16\n"
     ]
    }
   ],
   "source": [
    "print(' Fungsi Kuadrat '.center(40,'='))\n",
    "\n",
    "\n",
    "def kuadrat(x):\n",
    "    return x**2\n",
    "\n",
    "x = 4\n",
    "y = kuadrat(x)\n",
    "\n",
    "print(f'kuadrat {x} = {y}')"
   ]
  },
  {
   "cell_type": "markdown",
   "metadata": {},
   "source": [
    "### Osilasi teredam dengan Matplotlib\n",
    "\n",
    "A `10.6-kg` object oscillates at the end of a vertical \n",
    "spring that has a spring constant of `2.05.10^4 N/m`. \n",
    "The effect of air resistance is represented by the damping coefficient `b = 3.00 N . s/m`. \n",
    "    \n",
    "(a) Calculate the frequency of the damped oscillation. <br>\n",
    "(b) By what percentage does the amplitude of the oscillation decrease in each cycle? <br>\n",
    "(c) Find the time interval that elapses while the energy of the system drops to 5.00% of its \n",
    "initial value.\n",
    "\n",
    "    source: Serway Physics for Scientist and Engineer 6th edition, problem section 15.6"
   ]
  },
  {
   "cell_type": "code",
   "execution_count": 4,
   "metadata": {},
   "outputs": [
    {
     "ename": "ModuleNotFoundError",
     "evalue": "No module named 'matplotlib'",
     "output_type": "error",
     "traceback": [
      "\u001b[1;31m---------------------------------------------------------------------------\u001b[0m",
      "\u001b[1;31mModuleNotFoundError\u001b[0m                       Traceback (most recent call last)",
      "Cell \u001b[1;32mIn[4], line 1\u001b[0m\n\u001b[1;32m----> 1\u001b[0m \u001b[39mimport\u001b[39;00m \u001b[39mmatplotlib\u001b[39;00m\u001b[39m.\u001b[39;00m\u001b[39mpyplot\u001b[39;00m \u001b[39mas\u001b[39;00m \u001b[39mplt\u001b[39;00m\n\u001b[0;32m      2\u001b[0m \u001b[39mimport\u001b[39;00m \u001b[39mnumpy\u001b[39;00m \u001b[39mas\u001b[39;00m \u001b[39mnp\u001b[39;00m\n\u001b[0;32m      3\u001b[0m \u001b[39mimport\u001b[39;00m \u001b[39mmath\u001b[39;00m\n",
      "\u001b[1;31mModuleNotFoundError\u001b[0m: No module named 'matplotlib'"
     ]
    }
   ],
   "source": [
    "import matplotlib.pyplot as plt\n",
    "import numpy as np\n",
    "import math\n",
    "\n",
    "# (a) Calculate the frequency\n",
    "m = 10.6\n",
    "k = 2.05*(10**4)\n",
    "b = 3.00\n",
    "\n",
    "w = np.sqrt((k/m)-(b/(2*m))**2)\n",
    "f = w/(2*np.pi)\n",
    "print(f'frequency = {f}')\n",
    "\n",
    "# (b) Amplitude decays precentage\n",
    "A = 1 # starting amplitude\n",
    "T = 1/f\n",
    "A2 = np.exp((-(b/(2*m)))*T)\n",
    "\n",
    "decays = (A-A2)/A\n",
    "print(f\"Decay = {'{:1%}'.format(decays)}\")\n",
    "\n",
    "# (c) time, energy elaps 5%\n",
    "# E=1/2*k*A**2 ==> E0*np.exp(-bt/m) ==> 0.05E0 = E0*np.exp(-bt/m) ==> np.exp(+3t/10.6) = 20\n",
    "t = (np.log(20)*10.6)/3\n",
    "print(f'time = {t}')\n",
    "\n",
    "# plot oscillation\n",
    "def dampedOscillation(A, b, w, t, tetha):\n",
    "    time = np.arange(0,t,0.01)\n",
    "    x = A*np.exp((-(b/(2*m))*time))*np.cos(w*time+np.deg2rad(tetha))\n",
    "    return time, x\n",
    "x,y = dampedOscillation(A,b,w,t,0)\n",
    "plt.plot(x,y)\n",
    "plt.title('Damped Oscillation')\n",
    "plt.show()\n"
   ]
  }
 ],
 "metadata": {
  "kernelspec": {
   "display_name": "Python 3 (ipykernel)",
   "language": "python",
   "name": "python3"
  },
  "language_info": {
   "codemirror_mode": {
    "name": "ipython",
    "version": 3
   },
   "file_extension": ".py",
   "mimetype": "text/x-python",
   "name": "python",
   "nbconvert_exporter": "python",
   "pygments_lexer": "ipython3",
   "version": "3.11.2"
  },
  "vscode": {
   "interpreter": {
    "hash": "2571817fde71ff7edf4935d837ab8df7d2c06489efb4c3156ef054b1e72ce7cf"
   }
  }
 },
 "nbformat": 4,
 "nbformat_minor": 4
}
