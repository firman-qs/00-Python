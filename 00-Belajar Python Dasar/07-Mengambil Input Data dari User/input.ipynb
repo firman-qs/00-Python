{
 "cells": [
  {
   "attachments": {},
   "cell_type": "markdown",
   "metadata": {},
   "source": [
    "# Mengambil Input Data dari User\n",
    "input(\"deskripsi input\") <== bertipe string"
   ]
  },
  {
   "cell_type": "code",
   "execution_count": 2,
   "metadata": {},
   "outputs": [
    {
     "name": "stdout",
     "output_type": "stream",
     "text": [
      "input: 200, tipe: <class 'str'>\n"
     ]
    }
   ],
   "source": [
    "# input selalu bertipe str\n",
    "user_input = input(\"Masukkan sesuatu: \")\n",
    "print(f\"input: {user_input}, tipe: {type(user_input)}\")"
   ]
  },
  {
   "cell_type": "code",
   "execution_count": 4,
   "metadata": {},
   "outputs": [
    {
     "name": "stdout",
     "output_type": "stream",
     "text": [
      "input: 12, tipe: <class 'int'>\n"
     ]
    }
   ],
   "source": [
    "# casting input ke int\n",
    "user_input_to_int = int(input(\"Masukkan sesuatu: \"))\n",
    "print(f\"input: {user_input_to_int}, tipe: {type(user_input_to_int)}\")"
   ]
  },
  {
   "cell_type": "code",
   "execution_count": 5,
   "metadata": {},
   "outputs": [
    {
     "name": "stdout",
     "output_type": "stream",
     "text": [
      "input: False, tipe: <class 'bool'>\n"
     ]
    }
   ],
   "source": [
    "# casting input ke boolean bienr\n",
    "user_input_to_bool = bool(int(input(\"Masukkan sesuatu: \")))\n",
    "print(f\"input: {user_input_to_bool}, tipe: {type(user_input_to_bool)}\")"
   ]
  }
 ],
 "metadata": {
  "kernelspec": {
   "display_name": "Python 3",
   "language": "python",
   "name": "python3"
  },
  "language_info": {
   "codemirror_mode": {
    "name": "ipython",
    "version": 3
   },
   "file_extension": ".py",
   "mimetype": "text/x-python",
   "name": "python",
   "nbconvert_exporter": "python",
   "pygments_lexer": "ipython3",
   "version": "3.11.1"
  },
  "orig_nbformat": 4,
  "vscode": {
   "interpreter": {
    "hash": "474eb3216d207aa7f7b3a1b2991999c3d509a0dfbf478bd144769e415689ff10"
   }
  }
 },
 "nbformat": 4,
 "nbformat_minor": 2
}
