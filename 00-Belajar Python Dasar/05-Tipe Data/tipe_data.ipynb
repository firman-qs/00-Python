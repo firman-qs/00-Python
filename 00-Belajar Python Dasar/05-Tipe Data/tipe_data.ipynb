{
 "cells": [
  {
   "attachments": {},
   "cell_type": "markdown",
   "metadata": {},
   "source": [
    "## Tipe Data"
   ]
  },
  {
   "cell_type": "code",
   "execution_count": 3,
   "metadata": {},
   "outputs": [
    {
     "name": "stdout",
     "output_type": "stream",
     "text": [
      "data 10 bertipe <class 'int'>\n",
      "data 20 bertipe <class 'int'>\n"
     ]
    }
   ],
   "source": [
    "# integer ==> bilangan bulat/utuh\n",
    "data_integer = 10\n",
    "data_integer2 = 20\n",
    "print(f\"data {data_integer} bertipe {type(data_integer)}\")\n",
    "print(f\"data {data_integer2} bertipe {type(data_integer2)}\")\n"
   ]
  },
  {
   "cell_type": "code",
   "execution_count": 4,
   "metadata": {},
   "outputs": [
    {
     "name": "stdout",
     "output_type": "stream",
     "text": [
      "data 10.0 bertipe <class 'float'>\n",
      "data 11.9 bertipe <class 'float'>\n"
     ]
    }
   ],
   "source": [
    "# Float ==> bilangan pecah/desimal\n",
    "data_float = 10.0\n",
    "data_float2 = 11.9\n",
    "print(f\"data {data_float} bertipe {type(data_float)}\")\n",
    "print(f\"data {data_float2} bertipe {type(data_float2)}\")"
   ]
  },
  {
   "cell_type": "code",
   "execution_count": 11,
   "metadata": {},
   "outputs": [
    {
     "name": "stdout",
     "output_type": "stream",
     "text": [
      "data \"ini string 1\" \tbertipe <class 'str'>\n",
      "data \"11.1\" \t\tbertipe <class 'str'>\n"
     ]
    }
   ],
   "source": [
    "# String ==> kumpulan karakter\n",
    "# dapat menggunakan petik dua atau petik tunggal\n",
    "data_string = \"ini string 1\"\n",
    "data_string2 = '11.1'\n",
    "print(f\"data \\\"{data_string}\\\" \\tbertipe {type(data_string)}\")\n",
    "print(f\"data \\\"{data_string2}\\\" \\t\\tbertipe {type(data_string2)}\")"
   ]
  },
  {
   "cell_type": "code",
   "execution_count": 13,
   "metadata": {},
   "outputs": [
    {
     "name": "stdout",
     "output_type": "stream",
     "text": [
      "data \"True\" \tbertipe <class 'bool'>\n",
      "data \"False\" \tbertipe <class 'bool'>\n"
     ]
    }
   ],
   "source": [
    "# boolean ==> tipe data biner 0 atau 1, false atau true.\n",
    "# dapat menggunakan petik dua atau petik tunggal\n",
    "data_bool = True\n",
    "data_bool2 = False\n",
    "print(f\"data \\\"{data_bool}\\\" \\tbertipe {type(data_bool)}\")\n",
    "print(f\"data \\\"{data_bool2}\\\" \\tbertipe {type(data_bool2)}\")"
   ]
  },
  {
   "cell_type": "code",
   "execution_count": 14,
   "metadata": {},
   "outputs": [
    {
     "name": "stdout",
     "output_type": "stream",
     "text": [
      "data (5+6j) bertipe <class 'complex'>\n"
     ]
    }
   ],
   "source": [
    "# Tipe data khusus\n",
    "# bilangan kompleks\n",
    "data_complex = complex(5,6)\n",
    "print(f\"data {data_complex} bertipe {type(data_complex)}\")"
   ]
  },
  {
   "cell_type": "code",
   "execution_count": 16,
   "metadata": {},
   "outputs": [
    {
     "name": "stdout",
     "output_type": "stream",
     "text": [
      "data c_double(10.5) bertipe <class 'ctypes.c_double'>\n"
     ]
    }
   ],
   "source": [
    "# Tipe data dari bahasa C\n",
    "from ctypes import c_double\n",
    "data_c_double = c_double(10.5)\n",
    "print(f\"data {data_c_double} bertipe {type(data_c_double)}\")"
   ]
  }
 ],
 "metadata": {
  "kernelspec": {
   "display_name": "Python 3",
   "language": "python",
   "name": "python3"
  },
  "language_info": {
   "codemirror_mode": {
    "name": "ipython",
    "version": 3
   },
   "file_extension": ".py",
   "mimetype": "text/x-python",
   "name": "python",
   "nbconvert_exporter": "python",
   "pygments_lexer": "ipython3",
   "version": "3.11.1"
  },
  "orig_nbformat": 4,
  "vscode": {
   "interpreter": {
    "hash": "474eb3216d207aa7f7b3a1b2991999c3d509a0dfbf478bd144769e415689ff10"
   }
  }
 },
 "nbformat": 4,
 "nbformat_minor": 2
}
