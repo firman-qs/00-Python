{
 "cells": [
  {
   "attachments": {},
   "cell_type": "markdown",
   "metadata": {},
   "source": [
    "# OPERASI DAN MANIPULASI STRING"
   ]
  },
  {
   "attachments": {},
   "cell_type": "markdown",
   "metadata": {},
   "source": [
    "#### 1. Menyambung string (Concatenate)"
   ]
  },
  {
   "cell_type": "code",
   "execution_count": 3,
   "metadata": {},
   "outputs": [
    {
     "name": "stdout",
     "output_type": "stream",
     "text": [
      "Nature Furion Prophet 540\n"
     ]
    }
   ],
   "source": [
    "# menyambung string\n",
    "nama_awal = \"Nature\"\n",
    "nama_tengah = \"Furion\"\n",
    "nama_akhir = \"Prophet\"\n",
    "basic_hit_point = 540\n",
    "\n",
    "nama_lengkap = nama_awal + \" \" + nama_tengah + \" \" + nama_akhir + \" \" + str(basic_hit_point) # semua harus string\n",
    "print(nama_lengkap)\n"
   ]
  },
  {
   "attachments": {},
   "cell_type": "markdown",
   "metadata": {},
   "source": [
    "#### 2. Menghitung panjang string len(string)"
   ]
  },
  {
   "cell_type": "code",
   "execution_count": 3,
   "metadata": {},
   "outputs": [
    {
     "name": "stdout",
     "output_type": "stream",
     "text": [
      "'shadow 123' mempunyai panjang 10\n"
     ]
    }
   ],
   "source": [
    "# menghitung panjang string\n",
    "nama_hero = \"shadow 123\"\n",
    "print(f\"'{nama_hero}' mempunyai panjang {len(nama_hero)}\")"
   ]
  },
  {
   "attachments": {},
   "cell_type": "markdown",
   "metadata": {},
   "source": [
    "#### 3 Operator string"
   ]
  },
  {
   "cell_type": "code",
   "execution_count": 1,
   "metadata": {},
   "outputs": [
    {
     "name": "stdout",
     "output_type": "stream",
     "text": [
      "True\n",
      "True\n",
      "False\n"
     ]
    }
   ],
   "source": [
    "# check keberadaan sebuah atau beberapa char atau string di dalam string\n",
    "nama_assassins = \"Ezio Auditore Da Firenze\"\n",
    "status = \"o Audi\" in nama_assassins\n",
    "print(status)\n",
    "\n",
    "nama_assassins2 = \"Jacob\"\n",
    "status2 = (\"j\" in nama_assassins2) or (\"J\" in nama_assassins2)\n",
    "print(status2)\n",
    "\n",
    "status3 = \"o Audi\" not in nama_assassins\n",
    "print(status3)"
   ]
  },
  {
   "cell_type": "code",
   "execution_count": 2,
   "metadata": {},
   "outputs": [
    {
     "name": "stdout",
     "output_type": "stream",
     "text": [
      "wkwkwkwkwk\n"
     ]
    }
   ],
   "source": [
    "# mengulang string\n",
    "wk = \"wk\"*5\n",
    "print(wk)"
   ]
  },
  {
   "cell_type": "code",
   "execution_count": 14,
   "metadata": {},
   "outputs": [
    {
     "name": "stdout",
     "output_type": "stream",
     "text": [
      "nama: Nature Furion Prophet 540, panjang: 25\n",
      "index ke-0:\tN\n",
      "index ke-0:\ta\n",
      "index ke-0:\tt\n",
      "index ke[0-5]:\tNature\n",
      "loncat dua: 13579\n"
     ]
    }
   ],
   "source": [
    "# indexing\n",
    "print(f\"nama: {nama_lengkap}, panjang: {len(nama_lengkap)}\") # run first cell\n",
    "print(f\"index ke-0:\\t{nama_lengkap[0]}\")\n",
    "print(f\"index ke-0:\\t{nama_lengkap[1]}\")\n",
    "print(f\"index ke-0:\\t{nama_lengkap[2]}\")\n",
    "# ambile kata Nature (index ke 0 s.d. 5)\n",
    "print(f\"index ke[0-5]:\\t{nama_lengkap[0:6]}\")\n",
    "data_angka = \"123456789\"\n",
    "print(f\"loncat dua: {data_angka[0:9:2]}\")"
   ]
  },
  {
   "cell_type": "code",
   "execution_count": 20,
   "metadata": {},
   "outputs": [
    {
     "name": "stdout",
     "output_type": "stream",
     "text": [
      "paling kecil ' '\n",
      "paling kecil 'u'\n",
      "Nilai ASCII untuk spasi adalah: 32\n",
      "Nilai ASCII untuk 'u' adalah: 117\n",
      "ASCII 117 adalah char: u\n"
     ]
    }
   ],
   "source": [
    "# item terkecil\n",
    "print(f\"paling kecil '{min(nama_lengkap)}'\")\n",
    "# item terbesar\n",
    "print(f\"paling kecil '{max(nama_lengkap)}'\")\n",
    "\n",
    "# ambil ASCII code nya\n",
    "ascii_code_spasi = ord(\" \")\n",
    "print(f\"Nilai ASCII untuk spasi adalah: {ascii_code_spasi}\")\n",
    "ascii_code_spasi = ord(\"u\")\n",
    "print(f\"Nilai ASCII untuk 'u' adalah: {ascii_code_spasi}\")\n",
    "ascii_value = 117\n",
    "print(f\"ASCII {ascii_value} adalah char: {chr(ascii_value)}\")\n"
   ]
  },
  {
   "attachments": {},
   "cell_type": "markdown",
   "metadata": {},
   "source": [
    "#### 4 Operator dalam bentuk method"
   ]
  },
  {
   "cell_type": "code",
   "execution_count": 22,
   "metadata": {},
   "outputs": [
    {
     "name": "stdout",
     "output_type": "stream",
     "text": [
      "2\n"
     ]
    }
   ],
   "source": [
    "# operator dalam bentuk string\n",
    "data = \"visual studio code\"\n",
    "jumlah = data.count(\"u\")\n",
    "print(jumlah)"
   ]
  }
 ],
 "metadata": {
  "kernelspec": {
   "display_name": "Python 3",
   "language": "python",
   "name": "python3"
  },
  "language_info": {
   "codemirror_mode": {
    "name": "ipython",
    "version": 3
   },
   "file_extension": ".py",
   "mimetype": "text/x-python",
   "name": "python",
   "nbconvert_exporter": "python",
   "pygments_lexer": "ipython3",
   "version": "3.11.1"
  },
  "orig_nbformat": 4,
  "vscode": {
   "interpreter": {
    "hash": "474eb3216d207aa7f7b3a1b2991999c3d509a0dfbf478bd144769e415689ff10"
   }
  }
 },
 "nbformat": 4,
 "nbformat_minor": 2
}
