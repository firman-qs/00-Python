{
 "cells": [
  {
   "attachments": {},
   "cell_type": "markdown",
   "metadata": {},
   "source": [
    "# OPERASI DAN MANIPULASI STRING PART 2\n",
    "*operator menggunakan ```method```*"
   ]
  },
  {
   "attachments": {},
   "cell_type": "markdown",
   "metadata": {},
   "source": [
    "## 1. Merubah case dari string"
   ]
  },
  {
   "cell_type": "code",
   "execution_count": 9,
   "metadata": {},
   "outputs": [
    {
     "name": "stdout",
     "output_type": "stream",
     "text": [
      "normal\t= hello\n",
      "upper\t= HELLO\n",
      "normal\t= kAmoE KEtCE abIeZzZzz\n",
      "lower\t= kamoe ketce abiezzzzz\n"
     ]
    }
   ],
   "source": [
    "# Merubah semua ke uppercase\n",
    "hello = \"hello\"\n",
    "print(\"normal\\t= \" + hello)\n",
    "print(\"upper\\t= \" + hello.upper())\n",
    "\n",
    "# Merubah semua ke lowercase\n",
    "alay = \"kAmoE KEtCE abIeZzZzz\"\n",
    "print(\"normal\\t= \" + alay)\n",
    "print(\"lower\\t= \" + alay.lower())\n"
   ]
  },
  {
   "attachments": {},
   "cell_type": "markdown",
   "metadata": {},
   "source": [
    "## 2. Pengecekan dengan iszzzzz method\n",
    "**miscellaneous**\n",
    "- ```.isalpha``` <-- cek apakah semuanya huruf\n",
    "- ```.isalnum``` <-- cek apakah gabungan huruf dan angka\n",
    "- ```.isdecimal``` <-- cek apakah semuanya angka\n",
    "- ```.isspace``` <-- spasi, tab, newline \\n\n",
    "- ```.istitle``` <-- tiap awal kata huruf kapital dan tidak ada apostrophe"
   ]
  },
  {
   "cell_type": "code",
   "execution_count": 11,
   "metadata": {},
   "outputs": [
    {
     "name": "stdout",
     "output_type": "stream",
     "text": [
      "'hello' is lowercase True\n",
      "'hello' is uppercase False\n"
     ]
    }
   ],
   "source": [
    "hello = \"hello\"\n",
    "apakah_lower = hello.islower()\n",
    "print(\"'\" + hello + \"'\" + \" is lowercase \" + str(apakah_lower))\n",
    "apakah_upper = hello.isupper()\n",
    "print(\"'\" + hello + \"'\" + \" is uppercase \" + str(apakah_upper))\n"
   ]
  },
  {
   "attachments": {},
   "cell_type": "markdown",
   "metadata": {},
   "source": [
    "## 3. Cek Komponen\n",
    "```\n",
    ".startswith() dan .endswith()\n",
    "```"
   ]
  },
  {
   "cell_type": "code",
   "execution_count": 1,
   "metadata": {},
   "outputs": [
    {
     "name": "stdout",
     "output_type": "stream",
     "text": [
      "True\n",
      "True\n"
     ]
    }
   ],
   "source": [
    "cek_start = \"schyte of vyse\".startswith(\"schyte\")\n",
    "print(cek_start)\n",
    "cek_end = \"schyte of vyse\".endswith(\"vyse\")\n",
    "print(cek_end)"
   ]
  },
  {
   "attachments": {},
   "cell_type": "markdown",
   "metadata": {},
   "source": [
    "## 4. Menggabungkan dan memisahkan komponen\n",
    "```.join()``` dan ```.split()```"
   ]
  },
  {
   "cell_type": "code",
   "execution_count": 19,
   "metadata": {},
   "outputs": [
    {
     "name": "stdout",
     "output_type": "stream",
     "text": [
      "['visual', 'studio', 'code']\n",
      "visual, studio, code\n",
      "['visual', 'studio', 'code']\n"
     ]
    }
   ],
   "source": [
    "pisah = ['visual', 'studio', 'code']\n",
    "gabungan = ', '.join(pisah)\n",
    "print(pisah)\n",
    "print(gabungan)\n",
    "\n",
    "pisah = gabungan.split(', ')\n",
    "print(pisah)\n"
   ]
  },
  {
   "attachments": {},
   "cell_type": "markdown",
   "metadata": {},
   "source": [
    "## 5. Alokasi karakter\n",
    "```.rjust()```, ```.ljust()```, dan ```.center()```"
   ]
  },
  {
   "cell_type": "code",
   "execution_count": 5,
   "metadata": {},
   "outputs": [
    {
     "ename": "SyntaxError",
     "evalue": "invalid syntax (703712739.py, line 4)",
     "output_type": "error",
     "traceback": [
      "\u001b[1;36m  Cell \u001b[1;32mIn[5], line 4\u001b[1;36m\u001b[0m\n\u001b[1;33m    print(\"tengah\".(^20,\"=\"))\u001b[0m\n\u001b[1;37m                   ^\u001b[0m\n\u001b[1;31mSyntaxError\u001b[0m\u001b[1;31m:\u001b[0m invalid syntax\n"
     ]
    }
   ],
   "source": [
    "print(\"'\"+ \"kanan\".rjust(10,\"*\") + \"'\")\n",
    "print(\"'\"+ \"kiri\".ljust(10) + \"'\")\n",
    "print(\"'\"+ \" tengah \".center(20,\"=\") + \"'\")"
   ]
  }
 ],
 "metadata": {
  "kernelspec": {
   "display_name": "Python 3",
   "language": "python",
   "name": "python3"
  },
  "language_info": {
   "codemirror_mode": {
    "name": "ipython",
    "version": 3
   },
   "file_extension": ".py",
   "mimetype": "text/x-python",
   "name": "python",
   "nbconvert_exporter": "python",
   "pygments_lexer": "ipython3",
   "version": "3.11.2"
  },
  "orig_nbformat": 4,
  "vscode": {
   "interpreter": {
    "hash": "474eb3216d207aa7f7b3a1b2991999c3d509a0dfbf478bd144769e415689ff10"
   }
  }
 },
 "nbformat": 4,
 "nbformat_minor": 2
}
