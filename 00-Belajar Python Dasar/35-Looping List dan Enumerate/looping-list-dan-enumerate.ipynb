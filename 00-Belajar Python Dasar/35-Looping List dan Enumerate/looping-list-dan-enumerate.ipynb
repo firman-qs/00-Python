{
 "cells": [
  {
   "attachments": {},
   "cell_type": "markdown",
   "metadata": {},
   "source": [
    "# LOOPING LIST DAN ENUMERATE"
   ]
  },
  {
   "attachments": {},
   "cell_type": "markdown",
   "metadata": {},
   "source": [
    "## Menggunakan ```for``` loop"
   ]
  },
  {
   "cell_type": "code",
   "execution_count": 5,
   "metadata": {},
   "outputs": [
    {
     "name": "stdout",
     "output_type": "stream",
     "text": [
      "1 2 3 4 5 \n"
     ]
    }
   ],
   "source": [
    "kumpulan_angka = [1, 2, 3, 4, 5]\n",
    "for angka in kumpulan_angka:\n",
    "    print(angka, end=' ')\n",
    "print()"
   ]
  },
  {
   "attachments": {},
   "cell_type": "markdown",
   "metadata": {},
   "source": [
    "## ```for``` loop dengan index "
   ]
  },
  {
   "cell_type": "code",
   "execution_count": 6,
   "metadata": {},
   "outputs": [
    {
     "name": "stdout",
     "output_type": "stream",
     "text": [
      "ucup\n",
      "dudung\n",
      "otong\n",
      "asep\n",
      "diding\n"
     ]
    }
   ],
   "source": [
    "peserta = ['ucup', 'dudung', 'otong', 'asep', 'diding']\n",
    "jumlah_peserta = len(peserta)\n",
    "\n",
    "for i in range(jumlah_peserta):\n",
    "    print(peserta[i])\n"
   ]
  },
  {
   "attachments": {},
   "cell_type": "markdown",
   "metadata": {},
   "source": [
    "## ```while``` loop"
   ]
  },
  {
   "cell_type": "code",
   "execution_count": 9,
   "metadata": {},
   "outputs": [
    {
     "name": "stdout",
     "output_type": "stream",
     "text": [
      "ucup\n",
      "dudung\n",
      "otong\n",
      "asep\n",
      "diding\n"
     ]
    }
   ],
   "source": [
    "peserta = ['ucup', 'dudung', 'otong', 'asep', 'diding']\n",
    "jumlah_peserta = len(peserta)\n",
    "\n",
    "i = 0\n",
    "while i < jumlah_peserta:\n",
    "    print(peserta[i])\n",
    "    i += 1\n"
   ]
  },
  {
   "attachments": {},
   "cell_type": "markdown",
   "metadata": {},
   "source": [
    "## Menggunakan list comprehension"
   ]
  },
  {
   "cell_type": "code",
   "execution_count": 13,
   "metadata": {},
   "outputs": [
    {
     "name": "stdout",
     "output_type": "stream",
     "text": [
      "ucup\n",
      "dudung\n",
      "otong\n",
      "asep\n",
      "diding\n"
     ]
    },
    {
     "data": {
      "text/plain": [
       "[None, None, None, None, None]"
      ]
     },
     "execution_count": 13,
     "metadata": {},
     "output_type": "execute_result"
    }
   ],
   "source": [
    "peserta = ['ucup', 'dudung', 'otong', 'asep', 'diding']\n",
    "[print(i) for i in peserta]"
   ]
  },
  {
   "attachments": {},
   "cell_type": "markdown",
   "metadata": {},
   "source": [
    "## Menggunakan enumerate"
   ]
  },
  {
   "cell_type": "code",
   "execution_count": 19,
   "metadata": {},
   "outputs": [
    {
     "name": "stdout",
     "output_type": "stream",
     "text": [
      "0 --> ucup\n",
      "1 --> dudung\n",
      "2 --> otong\n",
      "3 --> asep\n",
      "4 --> diding\n",
      "\n",
      "0 --> ucup\n",
      "1 --> dudung\n",
      "2 --> otong\n",
      "3 --> asep\n",
      "4 --> diding\n",
      "\n",
      "0 --> ucup\n",
      "1 --> dudung\n",
      "2 --> otong\n",
      "3 --> asep\n",
      "4 --> diding\n"
     ]
    }
   ],
   "source": [
    "# dengan enumeratej\n",
    "peserta = ['ucup', 'dudung', 'otong', 'asep', 'diding']\n",
    "\n",
    "for index, nama in enumerate(peserta):\n",
    "    print(f\"{index} --> {nama}\")\n",
    "\n",
    "print()\n",
    "# tanpa enumerate part 1\n",
    "for i in range(len(peserta)):\n",
    "    print(f\"{i} --> {peserta[i]}\")\n",
    "\n",
    "print()\n",
    "# tanpa enumerate part 2\n",
    "for nama in peserta:\n",
    "    print(f\"{peserta.index(nama)} --> {nama}\")"
   ]
  }
 ],
 "metadata": {
  "kernelspec": {
   "display_name": "Python 3",
   "language": "python",
   "name": "python3"
  },
  "language_info": {
   "codemirror_mode": {
    "name": "ipython",
    "version": 3
   },
   "file_extension": ".py",
   "mimetype": "text/x-python",
   "name": "python",
   "nbconvert_exporter": "python",
   "pygments_lexer": "ipython3",
   "version": "3.11.1"
  },
  "orig_nbformat": 4,
  "vscode": {
   "interpreter": {
    "hash": "474eb3216d207aa7f7b3a1b2991999c3d509a0dfbf478bd144769e415689ff10"
   }
  }
 },
 "nbformat": 4,
 "nbformat_minor": 2
}
