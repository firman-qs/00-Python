{
 "cells": [
  {
   "cell_type": "markdown",
   "metadata": {},
   "source": [
    "### Global dan Local Scope"
   ]
  },
  {
   "cell_type": "code",
   "execution_count": 10,
   "metadata": {},
   "outputs": [
    {
     "name": "stdout",
     "output_type": "stream",
     "text": [
      "Hai aaa\n"
     ]
    }
   ],
   "source": [
    "# Global Variable\n",
    "\n",
    "def sayHai():    \n",
    "    print(f\"Hai {nama_global}\")\n",
    "\n",
    "nama_global = 'mirana' # global\n",
    "\n",
    "sayHai()"
   ]
  },
  {
   "cell_type": "code",
   "execution_count": 16,
   "metadata": {},
   "outputs": [
    {
     "name": "stdout",
     "output_type": "stream",
     "text": [
      "Dragon Knight\n"
     ]
    }
   ],
   "source": [
    "# Local Variable\n",
    "nama_lokal = 'Dragon Knight'\n",
    "\n",
    "def sayHai():\n",
    "    nama_lokal = 'Davion' # tidak bisa dilakukan \n",
    "\n",
    "sayHai()\n",
    "print(nama_lokal) # tidak muncul 'Davion', karena lokal"
   ]
  },
  {
   "cell_type": "code",
   "execution_count": 14,
   "metadata": {},
   "outputs": [
    {
     "name": "stdout",
     "output_type": "stream",
     "text": [
      "Pangolier\n"
     ]
    }
   ],
   "source": [
    "# Merubah Variable global\n",
    "name = \"Pangolier\"\n",
    "\n",
    "def ubah(nama_baru):\n",
    "    global name\n",
    "    name = nama_baru\n",
    "\n",
    "print(name)"
   ]
  }
 ],
 "metadata": {
  "kernelspec": {
   "display_name": "Python 3",
   "language": "python",
   "name": "python3"
  },
  "language_info": {
   "codemirror_mode": {
    "name": "ipython",
    "version": 3
   },
   "file_extension": ".py",
   "mimetype": "text/x-python",
   "name": "python",
   "nbconvert_exporter": "python",
   "pygments_lexer": "ipython3",
   "version": "3.11.1 (tags/v3.11.1:a7a450f, Dec  6 2022, 19:58:39) [MSC v.1934 64 bit (AMD64)]"
  },
  "orig_nbformat": 4,
  "vscode": {
   "interpreter": {
    "hash": "474eb3216d207aa7f7b3a1b2991999c3d509a0dfbf478bd144769e415689ff10"
   }
  }
 },
 "nbformat": 4,
 "nbformat_minor": 2
}
