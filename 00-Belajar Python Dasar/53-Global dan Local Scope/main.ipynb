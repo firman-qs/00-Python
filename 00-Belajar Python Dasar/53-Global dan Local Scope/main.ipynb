{
 "cells": [
  {
   "cell_type": "markdown",
   "metadata": {},
   "source": [
    "### Global dan Local Scope"
   ]
  },
  {
   "cell_type": "code",
   "execution_count": 10,
   "metadata": {},
   "outputs": [
    {
     "name": "stdout",
     "output_type": "stream",
     "text": [
      "Hai aaa\n"
     ]
    }
   ],
   "source": [
    "# Global Variable\n",
    "\n",
    "def sayHai():    \n",
    "    print(f\"Hai {nama_global}\")\n",
    "\n",
    "nama_global = 'mirana' # global\n",
    "\n",
    "sayHai()"
   ]
  },
  {
   "cell_type": "code",
   "execution_count": 16,
   "metadata": {},
   "outputs": [
    {
     "name": "stdout",
     "output_type": "stream",
     "text": [
      "Dragon Knight\n"
     ]
    }
   ],
   "source": [
    "# Local Variable\n",
    "nama_lokal = 'Dragon Knight'\n",
    "\n",
    "def sayHai():\n",
    "    nama_lokal = 'Davion' # tidak bisa dilakukan \n",
    "\n",
    "sayHai()\n",
    "print(nama_lokal) # tidak muncul 'Davion', karena lokal"
   ]
  },
  {
   "cell_type": "code",
   "execution_count": 14,
   "metadata": {},
   "outputs": [
    {
     "name": "stdout",
     "output_type": "stream",
     "text": [
      "Pangolier\n"
     ]
    }
   ],
   "source": [
    "# Merubah Variable global\n",
    "name = \"Pangolier\"\n",
    "\n",
    "def ubah(nama_baru):\n",
    "    global name\n",
    "    name = nama_baru\n",
    "\n",
    "print(name)"
   ]
  }
 ],
 "metadata": {
  "kernelspec": {
   "display_name": "Python 3.10.4 64-bit",
   "language": "python",
   "name": "python3"
  },
  "language_info": {
   "codemirror_mode": {
    "name": "ipython",
    "version": 3
   },
   "file_extension": ".py",
   "mimetype": "text/x-python",
   "name": "python",
   "nbconvert_exporter": "python",
   "pygments_lexer": "ipython3",
   "version": "3.10.4"
  },
  "orig_nbformat": 4,
  "vscode": {
   "interpreter": {
    "hash": "2571817fde71ff7edf4935d837ab8df7d2c06489efb4c3156ef054b1e72ce7cf"
   }
  }
 },
 "nbformat": 4,
 "nbformat_minor": 2
}
