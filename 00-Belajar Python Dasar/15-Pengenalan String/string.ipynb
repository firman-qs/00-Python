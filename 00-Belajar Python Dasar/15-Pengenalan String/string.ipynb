{
 "cells": [
  {
   "attachments": {},
   "cell_type": "markdown",
   "metadata": {},
   "source": [
    "# PENGENALAN STRING\n",
    "cara membuat string\n",
    "1.  menggunakan single quote '...'\n",
    "2.  menggunakan double quote \"...\"\n",
    "3.  string literal atau raw"
   ]
  },
  {
   "cell_type": "code",
   "execution_count": 8,
   "metadata": {},
   "outputs": [
    {
     "name": "stdout",
     "output_type": "stream",
     "text": [
      "menggunakan single quote\n",
      "menggunakan double quote\n",
      "andi berkata, \"ayo sholat jum'at\" \n"
     ]
    }
   ],
   "source": [
    "# 1-2\n",
    "data = 'menggunakan single quote'\n",
    "data2 = \"menggunakan double quote\"\n",
    "\n",
    "# menggunakan backslash\n",
    "data3 = \"andi berkata, \\\"ayo sholat jum\\'at\\\" \"\n",
    "\n",
    "print(data)\n",
    "print(data2)\n",
    "print(data3)\n"
   ]
  },
  {
   "cell_type": "code",
   "execution_count": 11,
   "metadata": {},
   "outputs": [
    {
     "name": "stdout",
     "output_type": "stream",
     "text": [
      "nama\t\t Furion\n",
      "attribute\t agility\n",
      "spell\t\t nature call\n"
     ]
    }
   ],
   "source": [
    "# menggunakan tab\n",
    "print(\"nama\\t\\t\", \"Furion\")\n",
    "print(\"attribute\\t\", \"agility\")\n",
    "print(\"spell\\t\\t\", \"nature call\")\n"
   ]
  },
  {
   "cell_type": "code",
   "execution_count": 15,
   "metadata": {},
   "outputs": [
    {
     "name": "stdout",
     "output_type": "stream",
     "text": [
      "hal dunia\n",
      "halo\tdunia\n"
     ]
    }
   ],
   "source": [
    "# backspace\n",
    "print(\"halo\\b dunia\")\n",
    "print(\"halo\\t\\t\\bdunia\")\n"
   ]
  },
  {
   "cell_type": "code",
   "execution_count": 25,
   "metadata": {},
   "outputs": [
    {
     "name": "stdout",
     "output_type": "stream",
     "text": [
      "ini baris pertama\n",
      "ini baris kedua\n",
      "abcdef789\n",
      "123456789\n",
      "abcdef\n"
     ]
    }
   ],
   "source": [
    "# newline\n",
    "print(\"ini baris pertama\\nini baris kedua\") # line feed LF\n",
    "print(\"123456789\\rabcdef\") #replace sebelumnya # carriage ritten CR\n",
    "print(\"123456789\\r\\nabcdef\") #replace sebelumnya # CRLF"
   ]
  },
  {
   "cell_type": "code",
   "execution_count": 37,
   "metadata": {},
   "outputs": [
    {
     "name": "stdout",
     "output_type": "stream",
     "text": [
      "E:\\new folder\\system32\\tambah\n",
      "\n",
      "bari \tpertama\n",
      "baris \tkedua\n",
      "baris \tketiga\n",
      "\n",
      "bari \\tpertama\n",
      "baris \\t\\t\\tkedua\n",
      "baris ketiga\n"
     ]
    }
   ],
   "source": [
    "# string raw\n",
    "print(r\"E:\\new folder\\system32\\tambah\") # print apapun sebagai string\n",
    "\n",
    "# string multiline\n",
    "print(\"\"\"\n",
    "bari \\tpertama\n",
    "baris \\tkedua\n",
    "baris \\tketiga\"\"\")\n",
    "\n",
    "# raw string multiline\n",
    "print(r\"\"\"\n",
    "bari \\tpertama\n",
    "baris \\t\\t\\tkedua\n",
    "baris ketiga\"\"\")\n",
    "\n"
   ]
  }
 ],
 "metadata": {
  "kernelspec": {
   "display_name": "Python 3",
   "language": "python",
   "name": "python3"
  },
  "language_info": {
   "codemirror_mode": {
    "name": "ipython",
    "version": 3
   },
   "file_extension": ".py",
   "mimetype": "text/x-python",
   "name": "python",
   "nbconvert_exporter": "python",
   "pygments_lexer": "ipython3",
   "version": "3.11.1"
  },
  "orig_nbformat": 4,
  "vscode": {
   "interpreter": {
    "hash": "474eb3216d207aa7f7b3a1b2991999c3d509a0dfbf478bd144769e415689ff10"
   }
  }
 },
 "nbformat": 4,
 "nbformat_minor": 2
}
