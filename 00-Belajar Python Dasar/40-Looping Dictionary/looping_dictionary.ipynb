{
 "cells": [
  {
   "attachments": {},
   "cell_type": "markdown",
   "metadata": {},
   "source": [
    "# LOOPING DICTIONARY"
   ]
  },
  {
   "cell_type": "code",
   "execution_count": 19,
   "metadata": {},
   "outputs": [],
   "source": [
    "data_dictionary = {\n",
    "    \"Furion\": \"Nature Prophet\",\n",
    "    \"Traxex\": \"Drow Ranger\",\n",
    "    \"Baratrum\": \"Spirit Breaker\"\n",
    "}\n"
   ]
  },
  {
   "attachments": {},
   "cell_type": "markdown",
   "metadata": {},
   "source": [
    "## try looping like in ```list```"
   ]
  },
  {
   "cell_type": "code",
   "execution_count": 4,
   "metadata": {},
   "outputs": [
    {
     "name": "stdout",
     "output_type": "stream",
     "text": [
      "Furion\n",
      "Traxex\n",
      "Baratrum\n"
     ]
    }
   ],
   "source": [
    "for something in data_dictionary:\n",
    "    print(something) # output berupa key"
   ]
  },
  {
   "attachments": {},
   "cell_type": "markdown",
   "metadata": {},
   "source": [
    "## Operator untuk mengambil item iterable"
   ]
  },
  {
   "attachments": {},
   "cell_type": "markdown",
   "metadata": {},
   "source": [
    "### get the keys! & value"
   ]
  },
  {
   "cell_type": "code",
   "execution_count": 26,
   "metadata": {},
   "outputs": [
    {
     "name": "stdout",
     "output_type": "stream",
     "text": [
      "dict_keys(['Furion', 'Traxex', 'Baratrum'])\n",
      "Furion, Traxex, Baratrum, \n",
      "\n",
      "Nature Prophet, Drow Ranger, Spirit Breaker, \n",
      "\n",
      "Nature Prophet\n",
      "Drow Ranger\n",
      "Spirit Breaker\n"
     ]
    }
   ],
   "source": [
    "keys = data_dictionary.keys()\n",
    "print(keys)\n",
    "\n",
    "# get the key\n",
    "for key in data_dictionary.keys():\n",
    "    print(key, end=\", \")\n",
    "\n",
    "print(\"\\n\")\n",
    "\n",
    "# get the value\n",
    "for key in data_dictionary.keys():\n",
    "    print(data_dictionary.get(key), end=\", \")\n",
    "\n",
    "print(\"\\n\")\n",
    "\n",
    "# get the value #2\n",
    "values = data_dictionary.values()\n",
    "for value in values:\n",
    "    print(value)"
   ]
  },
  {
   "attachments": {},
   "cell_type": "markdown",
   "metadata": {},
   "source": [
    "## ```.items()``` seperti ```.enumerate``` pada list"
   ]
  },
  {
   "cell_type": "code",
   "execution_count": 34,
   "metadata": {},
   "outputs": [
    {
     "name": "stdout",
     "output_type": "stream",
     "text": [
      "indeks: 0, key: Furion\n",
      "indeks: 1, key: Traxex\n",
      "indeks: 2, key: Baratrum\n",
      "\n",
      "\n",
      "key: Furion, value Nature Prophet\n",
      "key: Traxex, value Drow Ranger\n",
      "key: Baratrum, value Spirit Breaker\n",
      "\n",
      "\n",
      "dict_items([('Furion', 'Nature Prophet'), ('Traxex', 'Drow Ranger'), ('Baratrum', 'Spirit Breaker')])\n"
     ]
    }
   ],
   "source": [
    "for indeks, key in enumerate(data_dictionary):\n",
    "    print(f\"indeks: {indeks}, key: {key}\")\n",
    "\n",
    "print(\"\\n\")\n",
    "\n",
    "for key, value in data_dictionary.items():\n",
    "    print(f\"key: {key}, value {value}\")\n",
    "\n",
    "print(\"\\n\")\n",
    "\n",
    "items = data_dictionary.items()\n",
    "print(items)"
   ]
  }
 ],
 "metadata": {
  "kernelspec": {
   "display_name": "Python 3",
   "language": "python",
   "name": "python3"
  },
  "language_info": {
   "codemirror_mode": {
    "name": "ipython",
    "version": 3
   },
   "file_extension": ".py",
   "mimetype": "text/x-python",
   "name": "python",
   "nbconvert_exporter": "python",
   "pygments_lexer": "ipython3",
   "version": "3.11.1"
  },
  "orig_nbformat": 4,
  "vscode": {
   "interpreter": {
    "hash": "474eb3216d207aa7f7b3a1b2991999c3d509a0dfbf478bd144769e415689ff10"
   }
  }
 },
 "nbformat": 4,
 "nbformat_minor": 2
}
