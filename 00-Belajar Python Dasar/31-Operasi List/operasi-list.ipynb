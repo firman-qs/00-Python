{
 "cells": [
  {
   "attachments": {},
   "cell_type": "markdown",
   "metadata": {},
   "source": [
    "# OPERASI PADA LIST"
   ]
  },
  {
   "attachments": {},
   "cell_type": "markdown",
   "metadata": {},
   "source": [
    "## Menghitung jumlah data"
   ]
  },
  {
   "cell_type": "code",
   "execution_count": 4,
   "metadata": {},
   "outputs": [
    {
     "name": "stdout",
     "output_type": "stream",
     "text": [
      "[1, 2, 3, 2, 3, 7, 9, 1, 7, 3, 4, 9, 2, 8, 5, 0, 5, 3]\n",
      "jumlah angka 3 = 4 buah\n"
     ]
    }
   ],
   "source": [
    "data_angka = [1, 2, 3, 2, 3, 7, 9, 1, 7, 3, 4, 9, 2, 8, 5, 0, 5, 3]\n",
    "print(data_angka)\n",
    "\n",
    "jumlah_data_angka_3 = data_angka.count(3)\n",
    "print(f\"jumlah angka 3 = {jumlah_data_angka_3} buah\")\n"
   ]
  },
  {
   "attachments": {},
   "cell_type": "markdown",
   "metadata": {},
   "source": [
    "## Mengambil posisi data"
   ]
  },
  {
   "cell_type": "code",
   "execution_count": 7,
   "metadata": {},
   "outputs": [
    {
     "name": "stdout",
     "output_type": "stream",
     "text": [
      "lokasi dari data 'Mars' pada indeks-[3]\n"
     ]
    }
   ],
   "source": [
    "data_nama = ['Mirana', 'Medusa', 'Dawnbreaker', 'Mars', 'Zeus', 'Silencer']\n",
    "lokasi = data_nama.index('Mars')\n",
    "print(f\"lokasi dari data 'Mars' pada indeks-[{lokasi}]\")\n"
   ]
  },
  {
   "attachments": {},
   "cell_type": "markdown",
   "metadata": {},
   "source": [
    "## Mengurutkan dan memanipulasi list\n",
    "https://docs.python.org/3/howto/sorting.html"
   ]
  },
  {
   "cell_type": "code",
   "execution_count": 2,
   "metadata": {},
   "outputs": [
    {
     "name": "stdout",
     "output_type": "stream",
     "text": [
      "data angka\t: [8, 6, 2, 9, 3, 7, 1, 9, 2, 5, 4, 0]\n",
      "data angka\t: ['Mirana', 'Medusa', 'Dawnbreaker', 'Mars', 'Zeus', 'Silencer']\n",
      "data angka urut\t: [0, 1, 2, 2, 3, 4, 5, 6, 7, 8, 9, 9]\n",
      "data angka urut\t: ['Dawnbreaker', 'Mars', 'Medusa', 'Mirana', 'Silencer', 'Zeus']\n"
     ]
    }
   ],
   "source": [
    "# mengurutkan dari yang terkecil\n",
    "data_angka = [8, 6, 2, 9, 3, 7, 1, 9, 2, 5, 4, 0]\n",
    "data_string = ['Mirana', 'Medusa', 'Dawnbreaker', 'Mars', 'Zeus', 'Silencer']\n",
    "print(f\"data angka\\t: {data_angka}\")\n",
    "print(f\"data angka\\t: {data_string}\")\n",
    "data_angka.sort()\n",
    "data_string.sort()\n",
    "print(f\"data angka urut\\t: {data_angka}\")\n",
    "print(f\"data angka urut\\t: {data_string}\")"
   ]
  },
  {
   "cell_type": "code",
   "execution_count": 17,
   "metadata": {},
   "outputs": [
    {
     "name": "stdout",
     "output_type": "stream",
     "text": [
      "data angka\t: [8, 6, 2, 9, 3, 7, 1, 9, 2, 5, 4, 0]\n",
      "data angka urut\t: [0, 4, 5, 2, 9, 1, 7, 3, 9, 2, 6, 8]\n"
     ]
    }
   ],
   "source": [
    "# membalik urutan angka (kanan ke kiri, kiri ke kanan)\n",
    "data_angka = [8, 6, 2, 9, 3, 7, 1, 9, 2, 5, 4, 0]\n",
    "print(f\"data angka\\t: {data_angka}\")\n",
    "data_angka.reverse()\n",
    "print(f\"data angka urut\\t: {data_angka}\")"
   ]
  },
  {
   "cell_type": "code",
   "execution_count": 18,
   "metadata": {},
   "outputs": [
    {
     "name": "stdout",
     "output_type": "stream",
     "text": [
      "data angka\t: [8, 6, 2, 9, 3, 7, 1, 9, 2, 5, 4, 0]\n",
      "data angka urut\t: [9, 9, 8, 7, 6, 5, 4, 3, 2, 2, 1, 0]\n"
     ]
    }
   ],
   "source": [
    "# mengurutkan angka dari yang terbesar\n",
    "data_angka = [8, 6, 2, 9, 3, 7, 1, 9, 2, 5, 4, 0]\n",
    "print(f\"data angka\\t: {data_angka}\")\n",
    "data_angka.sort(reverse=True)\n",
    "print(f\"data angka urut\\t: {data_angka}\")"
   ]
  },
  {
   "cell_type": "code",
   "execution_count": 1,
   "metadata": {},
   "outputs": [
    {
     "name": "stdout",
     "output_type": "stream",
     "text": [
      "data angka\t: [8, 6, 2, 9, 3, 7, 1, 9, 2, 5, 4]\n",
      "data angka urut\t: [1, 2, 2, 3, 4, 5, 6, 7, 8, 9, 9]\n"
     ]
    }
   ],
   "source": [
    "# miscellaneous\n",
    "def kuadrat(n):\n",
    "    return 1/n\n",
    "\n",
    "data_angka = [8, 6, 2, 9, 3, 7, 1, 9, 2, 5, 4]\n",
    "print(f\"data angka\\t: {data_angka}\")\n",
    "# data diurutkan berdasarkan besar 1/n (n angka di dalam list)\n",
    "data_angka.sort(reverse=True, key=kuadrat)\n",
    "print(f\"data angka urut\\t: {data_angka}\")"
   ]
  }
 ],
 "metadata": {
  "kernelspec": {
   "display_name": "Python 3",
   "language": "python",
   "name": "python3"
  },
  "language_info": {
   "codemirror_mode": {
    "name": "ipython",
    "version": 3
   },
   "file_extension": ".py",
   "mimetype": "text/x-python",
   "name": "python",
   "nbconvert_exporter": "python",
   "pygments_lexer": "ipython3",
   "version": "3.11.1 (tags/v3.11.1:a7a450f, Dec  6 2022, 19:58:39) [MSC v.1934 64 bit (AMD64)]"
  },
  "orig_nbformat": 4,
  "vscode": {
   "interpreter": {
    "hash": "474eb3216d207aa7f7b3a1b2991999c3d509a0dfbf478bd144769e415689ff10"
   }
  }
 },
 "nbformat": 4,
 "nbformat_minor": 2
}
