{
 "cells": [
  {
   "attachments": {},
   "cell_type": "markdown",
   "metadata": {},
   "source": [
    "## Cara Kerja dan Bytercode\n",
    "\n",
    "python ==> interpreted language"
   ]
  },
  {
   "cell_type": "code",
   "execution_count": 2,
   "metadata": {},
   "outputs": [
    {
     "name": "stdout",
     "output_type": "stream",
     "text": [
      "Ini Baris 1\n",
      "Ini Baris dua\n",
      "Ini Baris 1\n",
      "Ini Baris dua\n"
     ]
    }
   ],
   "source": [
    "## comment (tidak dieksekusi)\n",
    "\"\"\"\n",
    "muttiple line\n",
    "comment\n",
    "jg tidak dieksekusi\n",
    "\"\"\"\n",
    "\n",
    "print(\"Ini Baris 1\"); print(\"Ini Baris dua\")\n",
    "# atau tanpa titik-koma\n",
    "print(\"Ini Baris 1\")\n",
    "print(\"Ini Baris dua\")"
   ]
  },
  {
   "attachments": {},
   "cell_type": "markdown",
   "metadata": {},
   "source": [
    "### compile python ==> bytecode\n",
    "+python -m py_compile main.py"
   ]
  }
 ],
 "metadata": {
  "kernelspec": {
   "display_name": "Python 3",
   "language": "python",
   "name": "python3"
  },
  "language_info": {
   "codemirror_mode": {
    "name": "ipython",
    "version": 3
   },
   "file_extension": ".py",
   "mimetype": "text/x-python",
   "name": "python",
   "nbconvert_exporter": "python",
   "pygments_lexer": "ipython3",
   "version": "3.11.1 (tags/v3.11.1:a7a450f, Dec  6 2022, 19:58:39) [MSC v.1934 64 bit (AMD64)]"
  },
  "orig_nbformat": 4,
  "vscode": {
   "interpreter": {
    "hash": "474eb3216d207aa7f7b3a1b2991999c3d509a0dfbf478bd144769e415689ff10"
   }
  }
 },
 "nbformat": 4,
 "nbformat_minor": 2
}
