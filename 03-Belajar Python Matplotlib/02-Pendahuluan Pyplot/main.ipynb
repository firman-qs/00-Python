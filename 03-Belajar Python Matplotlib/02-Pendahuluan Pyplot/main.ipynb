{
 "cells": [
  {
   "attachments": {},
   "cell_type": "markdown",
   "metadata": {},
   "source": [
    "# Pendahulan"
   ]
  },
  {
   "cell_type": "code",
   "execution_count": 1,
   "metadata": {},
   "outputs": [],
   "source": [
    "import numpy as np\n",
    "import matplotlib.pyplot as plt"
   ]
  },
  {
   "attachments": {},
   "cell_type": "markdown",
   "metadata": {},
   "source": [
    "## Step\n",
    "1. Membuat data\n",
    "2. Menampilkan plot\n",
    "3. Menampilkan plot"
   ]
  },
  {
   "attachments": {},
   "cell_type": "markdown",
   "metadata": {},
   "source": [
    "### Grafik ```2x+3``` dan ```kuadrat```"
   ]
  },
  {
   "cell_type": "code",
   "execution_count": null,
   "metadata": {},
   "outputs": [],
   "source": [
    "x = np.arange(0,19)\n",
    "y = 2*x+3\n",
    "y2 = x**2\n",
    "\n",
    "plt.plot(x,y)\n",
    "plt.plot(x,y2)\n",
    "plt.show()"
   ]
  },
  {
   "cell_type": "code",
   "execution_count": 38,
   "metadata": {},
   "outputs": [
    {
     "name": "stdout",
     "output_type": "stream",
     "text": [
      "[34 36 36 36 38 39 43 43 44 44 44 46 46 46 46 47 49 49 50 51 52 52 54 55\n",
      " 55 55 57 57]\n",
      "6.705160972972192\n",
      "44.95918367346939\n",
      "rata-rata 46.57142857142857\n",
      "46.62433862433863\n",
      "27\n",
      "6.828201712335293\n"
     ]
    }
   ],
   "source": [
    "data = np.array([241, 243, 246, 249, 250, 252, 254, 254, 255, 256, 261, 262, 263, 264, 264, 264, 265, 267, 267, 270, 271, 272, 273, 276, 276, 277, 278, 278, 280, 281, 282, 284, 288, 288, 290, 291, 291, 292, 293, 294, 296, 296, 297, 298, 310, 320, 321, 328])\n",
    "data2 = np.array([188, 195, 195, 225, 228, 232, 233, 237, 239, 240, 250, 256, 256, 256, 261, 264, 264, 268, 270, 270, 274, 274, 277, 308])\n",
    "data3 =np.array([54,52,51,50,36,55,44,46,57,44,43,52,38,46,55,34,44,39,43,36,55,57,36,46,49,46,49,47])\n",
    "print(np.sort(data3))\n",
    "print(np.std(data3))\n",
    "print(np.var(data3))\n",
    "print(f\"rata-rata {np.mean(data3)}\")\n",
    "data4 = np.sum(np.square(data3-np.mean(data3)))/(len(data3)-1)\n",
    "print(data4)\n",
    "print(len(data3)-1)\n",
    "print(np.sqrt(data4))\n",
    "\n",
    "# print(np.amax(data3))\n",
    "# print(np.amin(data3))\n",
    "# print(np.var(data3))\n",
    "# print(np.std(data3))\n",
    "\n",
    "# def rerata(data):\n",
    "#     sumasi = 0\n",
    "#     for i in data:\n",
    "#         sumasi+=i\n",
    "#     mean = sumasi/len(data)\n",
    "#     return mean\n",
    "# print(len(data2))\n",
    "# print(np.median(data))\n",
    "# print(np.median(data2))\n",
    "# print(rerata(data))\n",
    "# print(rerata(data2))\n",
    "# print(np.mean(data2))\n",
    "\n"
   ]
  },
  {
   "cell_type": "code",
   "execution_count": null,
   "metadata": {},
   "outputs": [],
   "source": []
  }
 ],
 "metadata": {
  "kernelspec": {
   "display_name": ".venv",
   "language": "python",
   "name": "python3"
  },
  "language_info": {
   "codemirror_mode": {
    "name": "ipython",
    "version": 3
   },
   "file_extension": ".py",
   "mimetype": "text/x-python",
   "name": "python",
   "nbconvert_exporter": "python",
   "pygments_lexer": "ipython3",
   "version": "3.11.1"
  },
  "orig_nbformat": 4,
  "vscode": {
   "interpreter": {
    "hash": "16b70fa72dfae939afd3f54223e49f90a53d170bbde1154bb77c0f5a6d44be51"
   }
  }
 },
 "nbformat": 4,
 "nbformat_minor": 2
}
