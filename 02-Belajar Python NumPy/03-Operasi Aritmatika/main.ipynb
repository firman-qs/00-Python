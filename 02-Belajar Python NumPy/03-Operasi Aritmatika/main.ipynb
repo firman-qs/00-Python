{
 "cells": [
  {
   "attachments": {},
   "cell_type": "markdown",
   "metadata": {},
   "source": [
    "# Operasi Aritmatika\n",
    "numpy --> elementwise"
   ]
  },
  {
   "cell_type": "code",
   "execution_count": 2,
   "metadata": {},
   "outputs": [],
   "source": [
    "import numpy as np\n",
    "\n",
    "# list python\n",
    "a = [1,2,3,4,5]\n",
    "b = [6,7,8,9,10]\n",
    "\n",
    "# array NumPy\n",
    "a_np = np.array([1,2,3,4,5])\n",
    "b_np = np.array([6,7,8,9,10])"
   ]
  },
  {
   "attachments": {},
   "cell_type": "markdown",
   "metadata": {},
   "source": [
    "## Penjumlahan"
   ]
  },
  {
   "cell_type": "code",
   "execution_count": 7,
   "metadata": {},
   "outputs": [
    {
     "name": "stdout",
     "output_type": "stream",
     "text": [
      "penjumlahan arr biasa: [1, 2, 3, 4, 5, 6, 7, 8, 9, 10]\n",
      "penjumlahan arr numpy: [ 7  9 11 13 15]\n"
     ]
    }
   ],
   "source": [
    "hasil_1 = a + b\n",
    "hasil_2 = a_np + b_np\n",
    "print(f\"penjumlahan arr biasa: {hasil_1}\")\n",
    "print(f\"penjumlahan arr numpy: {hasil_2}\")"
   ]
  },
  {
   "attachments": {},
   "cell_type": "markdown",
   "metadata": {},
   "source": [
    "## Pengurangan"
   ]
  },
  {
   "cell_type": "code",
   "execution_count": 8,
   "metadata": {},
   "outputs": [
    {
     "name": "stdout",
     "output_type": "stream",
     "text": [
      "pengurangan arr numpy: [-5 -5 -5 -5 -5]\n"
     ]
    }
   ],
   "source": [
    "# hasil_1 = a - b  # akan error\n",
    "hasil_2 = a_np - b_np\n",
    "# print(f\"pengurangan arr biasa: {hasil_1}\")\n",
    "print(f\"pengurangan arr numpy: {hasil_2}\")"
   ]
  },
  {
   "attachments": {},
   "cell_type": "markdown",
   "metadata": {},
   "source": [
    "## Operasi Lainnya"
   ]
  },
  {
   "cell_type": "code",
   "execution_count": 11,
   "metadata": {},
   "outputs": [
    {
     "name": "stdout",
     "output_type": "stream",
     "text": [
      "perkalian arr numpy: [ 6 14 24 36 50]\n",
      "perkalian arr numpy: [0.16666667 0.28571429 0.375      0.44444444 0.5       ]\n",
      "pengurangan arr numpy: [      1     128    6561  262144 9765625]\n"
     ]
    }
   ],
   "source": [
    "hasil_1 = a_np * b_np\n",
    "hasil_2 = a_np / b_np\n",
    "hasil_3 = a_np ** b_np\n",
    "print(f\"perkalian arr numpy: {hasil_1}\")\n",
    "print(f\"perkalian arr numpy: {hasil_2}\")\n",
    "print(f\"pengurangan arr numpy: {hasil_3}\")"
   ]
  },
  {
   "attachments": {},
   "cell_type": "markdown",
   "metadata": {},
   "source": [
    "## Multidimensi Array (Matriks)"
   ]
  },
  {
   "cell_type": "code",
   "execution_count": 14,
   "metadata": {},
   "outputs": [
    {
     "name": "stdout",
     "output_type": "stream",
     "text": [
      "[[10  8 10]\n",
      " [ 7 15  8]\n",
      " [15 12 10]]\n",
      "\n",
      "[[ 9 12 21]\n",
      " [12 50 12]\n",
      " [56 32  9]]\n"
     ]
    }
   ],
   "source": [
    "c = np.array([[1, 2, 3],\n",
    "              [4, 5, 6],\n",
    "              [7, 8, 9]])\n",
    "\n",
    "d = np.array([[9, 6, 7],\n",
    "              [3, 10, 2],\n",
    "              [8, 4, 1]])\n",
    "\n",
    "print(c+d)\n",
    "print()\n",
    "print(c*d)\n"
   ]
  },
  {
   "cell_type": "code",
   "execution_count": 16,
   "metadata": {},
   "outputs": [
    {
     "name": "stdout",
     "output_type": "stream",
     "text": [
      "[[ 0  1  4  9 16 25 36 49 64 81]]\n",
      "\n",
      "[[0 1 2]\n",
      " [1 2 3]]\n"
     ]
    }
   ],
   "source": [
    "def kuadrat(row, height):\n",
    "    return height**2\n",
    "\n",
    "b = np.fromfunction(kuadrat, (1, 10), dtype=int)\n",
    "print(b)\n",
    "print()\n",
    "\n",
    "def tambah(kolom, baris):\n",
    "    return kolom + baris\n",
    "\n",
    "c = np.fromfunction(tambah, (2, 3), dtype=int)\n",
    "print(c)"
   ]
  }
 ],
 "metadata": {
  "kernelspec": {
   "display_name": ".venv",
   "language": "python",
   "name": "python3"
  },
  "language_info": {
   "codemirror_mode": {
    "name": "ipython",
    "version": 3
   },
   "file_extension": ".py",
   "mimetype": "text/x-python",
   "name": "python",
   "nbconvert_exporter": "python",
   "pygments_lexer": "ipython3",
   "version": "3.11.1"
  },
  "orig_nbformat": 4,
  "vscode": {
   "interpreter": {
    "hash": "b652588537393cee1c7f4a2850cb77dc2164facef7ff30400355e2ca84ff499f"
   }
  }
 },
 "nbformat": 4,
 "nbformat_minor": 2
}
