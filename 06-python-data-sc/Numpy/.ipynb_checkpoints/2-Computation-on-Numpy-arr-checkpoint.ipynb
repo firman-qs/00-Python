{
 "cells": [
  {
   "attachments": {},
   "cell_type": "markdown",
   "metadata": {},
   "source": [
    "# Komputasi di Array Numpy: Fungsi Universal"
   ]
  },
  {
   "attachments": {},
   "cell_type": "markdown",
   "metadata": {},
   "source": [
    "### Menjelajahi NumPy's UFuncs"
   ]
  },
  {
   "cell_type": "code",
   "execution_count": 10,
   "metadata": {},
   "outputs": [
    {
     "name": "stdout",
     "output_type": "stream",
     "text": [
      "x\t = [-5 -4 -3 -2 -1  0  1  2  3  4]\n",
      "x+2\t = [-3 -2 -1  0  1  2  3  4  5  6]\n",
      "x+3\t = [-2 -1  0  1  2  3  4  5  6  7]\n",
      "x**2\t = [25 16  9  4  1  0  1  4  9 16]\n"
     ]
    }
   ],
   "source": [
    "# Tidak perlu looping seperti \n",
    "x = np.arange(-5,5,1)\n",
    "print(f\"x\\t = {x}\")\n",
    "print(f\"x+2\\t = {x+2}\")\n",
    "print(f\"x+3\\t = {x+3}\")\n",
    "print(f\"x**2\\t = {x**2}\")"
   ]
  },
  {
   "attachments": {},
   "cell_type": "markdown",
   "metadata": {},
   "source": [
    "***atau dengan fungsi***"
   ]
  },
  {
   "cell_type": "code",
   "execution_count": 13,
   "metadata": {},
   "outputs": [
    {
     "name": "stdout",
     "output_type": "stream",
     "text": [
      "[25 16  9  4  1  0  1  4  9 16]\n",
      "[5 4 3 2 1 0 1 2 3 4]\n"
     ]
    }
   ],
   "source": [
    "print(np.power(x,2))\n",
    "print(np.abs(x))"
   ]
  }
 ],
 "metadata": {
  "kernelspec": {
   "display_name": "Python 3",
   "language": "python",
   "name": "python3"
  },
  "language_info": {
   "codemirror_mode": {
    "name": "ipython",
    "version": 3
   },
   "file_extension": ".py",
   "mimetype": "text/x-python",
   "name": "python",
   "nbconvert_exporter": "python",
   "pygments_lexer": "ipython3",
   "version": "3.10.10"
  },
  "orig_nbformat": 4
 },
 "nbformat": 4,
 "nbformat_minor": 2
}
