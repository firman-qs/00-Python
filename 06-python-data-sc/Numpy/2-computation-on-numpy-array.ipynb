{
 "cells": [
  {
   "cell_type": "markdown",
   "metadata": {
    "tags": []
   },
   "source": [
    "# Komputasi di Array Numpy"
   ]
  },
  {
   "cell_type": "markdown",
   "metadata": {},
   "source": [
    "## Universal Function"
   ]
  },
  {
   "cell_type": "code",
   "execution_count": 28,
   "metadata": {
    "tags": []
   },
   "outputs": [],
   "source": [
    "# first let import numpy as np\n",
    "import numpy as np"
   ]
  },
  {
   "cell_type": "markdown",
   "metadata": {},
   "source": [
    "### Menjelajahi NumPy's UFuncs"
   ]
  },
  {
   "cell_type": "markdown",
   "metadata": {},
   "source": [
    "#### Operasi aritmatika"
   ]
  },
  {
   "cell_type": "code",
   "execution_count": 29,
   "metadata": {
    "tags": []
   },
   "outputs": [
    {
     "name": "stdout",
     "output_type": "stream",
     "text": [
      "x\t = [-5 -4 -3 -2 -1  0  1  2  3  4]\n",
      "x+2\t = [-3 -2 -1  0  1  2  3  4  5  6]\n",
      "x+3\t = [-2 -1  0  1  2  3  4  5  6  7]\n",
      "x**2\t = [25 16  9  4  1  0  1  4  9 16]\n"
     ]
    }
   ],
   "source": [
    "# Tidak perlu looping seperti pada list regular\n",
    "x = np.arange(-5, 5, 1)\n",
    "print(f\"x\\t = {x}\")\n",
    "print(f\"x+2\\t = {x+2}\")\n",
    "print(f\"x+3\\t = {x+3}\")\n",
    "print(f\"x**2\\t = {x**2}\")"
   ]
  },
  {
   "cell_type": "markdown",
   "metadata": {},
   "source": [
    "***atau dengan fungsi***"
   ]
  },
  {
   "cell_type": "code",
   "execution_count": 30,
   "metadata": {
    "tags": []
   },
   "outputs": [
    {
     "name": "stdout",
     "output_type": "stream",
     "text": [
      "[25 16  9  4  1  0  1  4  9 16]\n",
      "[-2 -1  0  1  2  3  4  5  6  7]\n"
     ]
    }
   ],
   "source": [
    "print(np.power(x,2))\n",
    "print(np.add(x, 3))"
   ]
  },
  {
   "cell_type": "markdown",
   "metadata": {},
   "source": [
    "#### Absolute value"
   ]
  },
  {
   "cell_type": "code",
   "execution_count": 31,
   "metadata": {
    "tags": []
   },
   "outputs": [
    {
     "name": "stdout",
     "output_type": "stream",
     "text": [
      "[5 4 3 2 1 0 1 2 3 4]\n"
     ]
    }
   ],
   "source": [
    "print(np.absolute(x)) "
   ]
  },
  {
   "cell_type": "code",
   "execution_count": 32,
   "metadata": {
    "tags": []
   },
   "outputs": [
    {
     "name": "stdout",
     "output_type": "stream",
     "text": [
      "[5 4 3 2 1 0 1 2 3 4]\n"
     ]
    }
   ],
   "source": [
    "# atau secara singkat\n",
    "print(np.abs(x))"
   ]
  },
  {
   "cell_type": "code",
   "execution_count": 33,
   "metadata": {
    "tags": []
   },
   "outputs": [
    {
     "name": "stdout",
     "output_type": "stream",
     "text": [
      "[ 5. 10. 20.  1.]\n"
     ]
    }
   ],
   "source": [
    "# universal function: np.absolute() juga dapat menghandle data kompleks dan mengembalikan besarnya\n",
    "x = np.array([3-4j, 6+8j, 12-16j, 0+1j])\n",
    "print(np.abs(x))"
   ]
  },
  {
   "cell_type": "markdown",
   "metadata": {},
   "source": [
    "#### Fungsi Trigonometri"
   ]
  },
  {
   "cell_type": "code",
   "execution_count": 34,
   "metadata": {
    "tags": []
   },
   "outputs": [
    {
     "name": "stdout",
     "output_type": "stream",
     "text": [
      "theta \t\t : [0.         0.52359878 1.04719755 1.57079633]\n",
      "sin(theta)\t : [0.        0.5       0.8660254 1.       ]\n",
      "cos(theta)\t : [1.00000000e+00 8.66025404e-01 5.00000000e-01 6.12323400e-17]\n",
      "tan(theta)\t : [0.00000000e+00 5.77350269e-01 1.73205081e+00 1.63312394e+16]\n"
     ]
    }
   ],
   "source": [
    "theta = np.linspace(0, np.pi/2, 4)\n",
    "print(f\"theta \\t\\t : {theta}\")\n",
    "print(f\"sin(theta)\\t : {np.sin(theta)}\")\n",
    "print(f\"cos(theta)\\t : {np.cos(theta)}\")\n",
    "print(f\"tan(theta)\\t : {np.tan(theta)}\")"
   ]
  },
  {
   "cell_type": "code",
   "execution_count": 35,
   "metadata": {
    "tags": []
   },
   "outputs": [
    {
     "name": "stdout",
     "output_type": "stream",
     "text": [
      "sin(theta)\t : [0.        0.5       0.8660254 1.       ]\n",
      "cos(theta)\t : [1.00000000e+00 8.66025404e-01 5.00000000e-01 6.12323400e-17]\n",
      "tan(theta)\t : [0.00000000e+00 5.77350269e-01 1.73205081e+00 1.63312394e+16]\n"
     ]
    }
   ],
   "source": [
    "# fungsi trigonometri invers juga ada\n",
    "print(f\"sin(theta)\\t : {np.sin(theta)}\")\n",
    "print(f\"cos(theta)\\t : {np.cos(theta)}\")\n",
    "print(f\"tan(theta)\\t : {np.tan(theta)}\")"
   ]
  },
  {
   "cell_type": "markdown",
   "metadata": {},
   "source": [
    "#### Exponen dan logaritma"
   ]
  },
  {
   "cell_type": "code",
   "execution_count": 36,
   "metadata": {
    "tags": []
   },
   "outputs": [
    {
     "name": "stdout",
     "output_type": "stream",
     "text": [
      "x\t: [1 2 3]\n",
      "e^x\t: [ 2.71828183  7.3890561  20.08553692]\n",
      "2^x\t: [2. 4. 8.]\n",
      "====================\n",
      "3^x\t=1 [ 3  9 27]\n",
      "3^x\t=2 [ 3  9 27]\n",
      "3^x\t=3 [ 1  8 27]\n",
      "3^x\t=4 [ 1  8 27]\n"
     ]
    }
   ],
   "source": [
    "# Exponen\n",
    "x = np.array([1, 2, 3])\n",
    "print(f\"x\\t: {x}\")\n",
    "print(f\"e^x\\t: {np.exp(x)}\")\n",
    "print(f\"2^x\\t: {np.exp2( x )}\")\n",
    "print(\"\".center(20,\"=\"))\n",
    "print(f\"3^x\\t=1 {np.power(3, x)}\")\n",
    "print(f\"3^x\\t=2 {3**x}\")\n",
    "print(f\"3^x\\t=3 {np.power(x, 3)}\")\n",
    "print(f\"3^x\\t=4 {x**3}\")"
   ]
  },
  {
   "cell_type": "code",
   "execution_count": 37,
   "metadata": {},
   "outputs": [
    {
     "name": "stdout",
     "output_type": "stream",
     "text": [
      "x\t : [ 1  2  4 10]\n",
      "ln(x)\t : [0.         0.69314718 1.38629436 2.30258509]\n",
      "2log(x)\t : [0.         1.         2.         3.32192809]\n",
      "log(x)\t : [0.         0.30103    0.60205999 1.        ]\n"
     ]
    }
   ],
   "source": [
    "# Logaritma\n",
    "# log = ln, log2 = basis 2, log10 = basis 10\n",
    "x = np.array([1, 2, 4, 10])\n",
    "print(f\"x\\t : {x}\")\n",
    "print(f\"ln(x)\\t : {np.log(x)}\")\n",
    "print(f\"2log(x)\\t : {np.log2(x)}\")\n",
    "print(f\"log(x)\\t : {np.log10(x)}\")"
   ]
  },
  {
   "cell_type": "markdown",
   "metadata": {},
   "source": [
    "terdapat versi khusus yang berguna untuk mengelola presisi yang dihasilkan oleh input yang sangat kecil"
   ]
  },
  {
   "cell_type": "code",
   "execution_count": 38,
   "metadata": {},
   "outputs": [
    {
     "name": "stdout",
     "output_type": "stream",
     "text": [
      "exp(x) - 1 = [0.         0.0010005  0.01005017 0.10517092]\n",
      "log(1 + x) = [0.         0.0009995  0.00995033 0.09531018]\n"
     ]
    }
   ],
   "source": [
    "x = np.array([0, 0.001, 0.01, 0.1])\n",
    "print(f\"exp(x) - 1 = {np.expm1(x)}\")\n",
    "print(f\"log(1 + x) = {np.log1p(x)}\")"
   ]
  },
  {
   "cell_type": "markdown",
   "metadata": {},
   "source": [
    "#### Ufunct spesial"
   ]
  },
  {
   "cell_type": "code",
   "execution_count": 39,
   "metadata": {},
   "outputs": [],
   "source": [
    "from scipy import special"
   ]
  },
  {
   "cell_type": "code",
   "execution_count": 40,
   "metadata": {},
   "outputs": [
    {
     "name": "stdout",
     "output_type": "stream",
     "text": [
      "gamma(x)     = [1.0000e+00 2.4000e+01 3.6288e+05]\n",
      "ln|gamma(x)  = [ 0.          3.17805383 12.80182748]\n",
      "beta(x, 2)   = [0.5        0.03333333 0.00909091]\n"
     ]
    }
   ],
   "source": [
    "# Funsi gama (faktorial umum) dan fungsi lain yang berkatian\n",
    "x = np.array([1, 5, 10])\n",
    "print(f\"gamma(x)     = {special.gamma(x)}\")\n",
    "print(f\"ln|gamma(x)  = {special.gammaln(x)}\")\n",
    "print(f\"beta(x, 2)   = {special.beta(x, 2)}\")"
   ]
  },
  {
   "cell_type": "code",
   "execution_count": 41,
   "metadata": {},
   "outputs": [
    {
     "name": "stdout",
     "output_type": "stream",
     "text": [
      "erf(x)   = [0.         0.32862676 0.67780119 0.84270079]\n",
      "erfc(x)   = [1.         0.67137324 0.32219881 0.15729921]\n",
      "erfinv(x)   = [0.         0.27246271 0.73286908        inf]\n"
     ]
    }
   ],
   "source": [
    "# Funsi error (Integral dari gaussian)\n",
    "# compement dan inversnya\n",
    "x = np.array([0, 0.3, 0.7, 1.0])\n",
    "print(f\"erf(x)   = {special.erf(x)}\")\n",
    "print(f\"erfc(x)   = {special.erfc(x)}\")\n",
    "print(f\"erfinv(x)   = {special.erfinv(x)}\")"
   ]
  },
  {
   "cell_type": "markdown",
   "metadata": {},
   "source": [
    "### Fitur lanjutan dari UFunct"
   ]
  },
  {
   "cell_type": "markdown",
   "metadata": {},
   "source": [
    "#### Menentukan letak output\n",
    "Alih-alih anda membuat array temporer, kamu dapat menggunkan ini untuk menulis hasil perhitungan ke lokasi memori yang anda inginkan"
   ]
  },
  {
   "cell_type": "code",
   "execution_count": 46,
   "metadata": {},
   "outputs": [
    {
     "name": "stdout",
     "output_type": "stream",
     "text": [
      "[[5 8 5 0 0]\n",
      " [1 7 6 2 4]\n",
      " [5 2 4 2 4]]\n",
      "[[50. 80. 50.  0.  0.]\n",
      " [10. 70. 60. 20. 40.]\n",
      " [50. 20. 40. 20. 40.]]\n"
     ]
    }
   ],
   "source": [
    "np.random.seed(1)\n",
    "x = np.random.randint(0, 9, (3,5))\n",
    "z = np.empty((3,5))\n",
    "np.multiply(x, 10, out=z)\n",
    "print(x)\n",
    "print(z)"
   ]
  },
  {
   "cell_type": "code",
   "execution_count": 51,
   "metadata": {},
   "outputs": [
    {
     "name": "stdout",
     "output_type": "stream",
     "text": [
      "[ 1.  0.  4.  0.  9.  0. 16.  0. 25.  0.]\n"
     ]
    }
   ],
   "source": [
    "i = np.arange(1,6)\n",
    "j = np.zeros(10)\n",
    "np.power(i, 2, out=j[::2])\n",
    "print(j)"
   ]
  },
  {
   "cell_type": "markdown",
   "metadata": {},
   "source": [
    "#### Agregat"
   ]
  },
  {
   "cell_type": "code",
   "execution_count": 55,
   "metadata": {},
   "outputs": [
    {
     "data": {
      "text/plain": [
       "10"
      ]
     },
     "execution_count": 55,
     "metadata": {},
     "output_type": "execute_result"
    }
   ],
   "source": [
    "x = np.arange(1, 5)\n",
    "np.add.reduce(x)"
   ]
  },
  {
   "cell_type": "code",
   "execution_count": 56,
   "metadata": {},
   "outputs": [
    {
     "data": {
      "text/plain": [
       "24"
      ]
     },
     "execution_count": 56,
     "metadata": {},
     "output_type": "execute_result"
    }
   ],
   "source": [
    "np.arange(1, 5)\n",
    "np.multiply.reduce(x)"
   ]
  },
  {
   "cell_type": "code",
   "execution_count": 58,
   "metadata": {},
   "outputs": [
    {
     "data": {
      "text/plain": [
       "array([ 1,  2,  6, 24])"
      ]
     },
     "execution_count": 58,
     "metadata": {},
     "output_type": "execute_result"
    }
   ],
   "source": [
    "np.add.accumulate(x)\n",
    "np.multiply.accumulate(x)"
   ]
  },
  {
   "cell_type": "markdown",
   "metadata": {},
   "source": [
    "#### Outer products"
   ]
  },
  {
   "cell_type": "code",
   "execution_count": 63,
   "metadata": {},
   "outputs": [
    {
     "name": "stdout",
     "output_type": "stream",
     "text": [
      "[[ 1  2  3  4  5  6  7  8  9]\n",
      " [ 2  4  6  8 10 12 14 16 18]\n",
      " [ 3  6  9 12 15 18 21 24 27]\n",
      " [ 4  8 12 16 20 24 28 32 36]\n",
      " [ 5 10 15 20 25 30 35 40 45]\n",
      " [ 6 12 18 24 30 36 42 48 54]\n",
      " [ 7 14 21 28 35 42 49 56 63]\n",
      " [ 8 16 24 32 40 48 56 64 72]\n",
      " [ 9 18 27 36 45 54 63 72 81]]\n"
     ]
    }
   ],
   "source": [
    "x = np.arange(1, 10)\n",
    "y = np.multiply.outer(x, x)\n",
    "print(y)"
   ]
  }
 ],
 "metadata": {
  "kernelspec": {
   "display_name": "Python 3 (ipykernel)",
   "language": "python",
   "name": "python3"
  },
  "language_info": {
   "codemirror_mode": {
    "name": "ipython",
    "version": 3
   },
   "file_extension": ".py",
   "mimetype": "text/x-python",
   "name": "python",
   "nbconvert_exporter": "python",
   "pygments_lexer": "ipython3",
   "version": "3.11.2"
  }
 },
 "nbformat": 4,
 "nbformat_minor": 4
}
