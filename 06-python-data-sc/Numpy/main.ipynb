{
 "cells": [
  {
   "attachments": {},
   "cell_type": "markdown",
   "metadata": {},
   "source": [
    "# Python standart list"
   ]
  },
  {
   "cell_type": "code",
   "execution_count": 6,
   "metadata": {},
   "outputs": [
    {
     "name": "stdout",
     "output_type": "stream",
     "text": [
      "[0, 1, 2, 3, 4, 5, 6, 7, 8, 9]  type datanya item-1:  <class 'int'>\n",
      "['0', '1', '2', '3', '4', '5', '6', '7', '8', '9']  type data item-1:  <class 'str'>\n",
      "[True, 1, 1.23, 'hello'], \n",
      "tiped data item-1: <class 'bool'>,\n",
      "tiped data item-2: <class 'int'>,\n",
      "tiped data item-3: <class 'float'>,\n",
      "tiped data item-4: <class 'str'>,\n"
     ]
    }
   ],
   "source": [
    "# Kita dapat membuat list integer sebagai berikut:\n",
    "list_int = list(range(10)) # list angka dari 0 s.s. 9\n",
    "print(list_int, \" type datanya item-1: \", type(list_int[0]))\n",
    "\n",
    "# kita juga dapat membuat list string\n",
    "list_str = [str(n) for n in list_int]\n",
    "print(list_str, \" type data item-1: \", type(list_str[0]))\n",
    "\n",
    "# karena python itu \"dynamicly typed\" maka kita dapat membuat list dengan tipe data heterogen\n",
    "list_hetero = [True, 1, 1.23, 'hello']\n",
    "print(f\"\"\"{list_hetero}, \n",
    "tipe data item-1: {type(list_hetero[0])},\n",
    "tipe data item-2: {type(list_hetero[1])},\n",
    "tipe data item-3: {type(list_hetero[2])},\n",
    "tipe data item-4: {type(list_hetero[3])},\"\"\")"
   ]
  },
  {
   "attachments": {},
   "cell_type": "markdown",
   "metadata": {},
   "source": [
    "## Fixed-type Array di Python"
   ]
  },
  {
   "cell_type": "code",
   "execution_count": 12,
   "metadata": {},
   "outputs": [
    {
     "name": "stdout",
     "output_type": "stream",
     "text": [
      "[0, 1, 2, 3, 4, 5, 6, 7, 8, 9]\n",
      "array('i', [0, 1, 2, 3, 4, 5, 6, 7, 8, 9])   <class 'array.array'>\n"
     ]
    }
   ],
   "source": [
    "# dengan melakukan import array\n",
    "import array\n",
    "list_dynamic = list(range(10))\n",
    "list_fixed = array.array('i', list(range(10)))\n",
    "print(list_dynamic)\n",
    "print(list_fixed, \" \", type(list_fixed))"
   ]
  },
  {
   "attachments": {},
   "cell_type": "markdown",
   "metadata": {},
   "source": [
    "# NumPy"
   ]
  },
  {
   "cell_type": "code",
   "execution_count": 14,
   "metadata": {},
   "outputs": [],
   "source": [
    "# Import numpy dengan singkatan np\n",
    "import numpy as np"
   ]
  },
  {
   "attachments": {},
   "cell_type": "markdown",
   "metadata": {},
   "source": [
    "## Membuat array dengan numpy dari list-python"
   ]
  },
  {
   "cell_type": "code",
   "execution_count": 20,
   "metadata": {},
   "outputs": [
    {
     "data": {
      "text/plain": [
       "array([ 0,  1,  4,  9, 16, 25, 36, 49, 64, 81])"
      ]
     },
     "execution_count": 20,
     "metadata": {},
     "output_type": "execute_result"
    }
   ],
   "source": [
    "np_array = np.array([x**2 for x in range(10)])\n",
    "np_array"
   ]
  },
  {
   "attachments": {},
   "cell_type": "markdown",
   "metadata": {},
   "source": [
    "Tidak seperti list standar python, numpy membatasi item array pada tipe yang sejenis. Jika tidak, maka numpy akan melakukan casting data jika dimungkinkan."
   ]
  },
  {
   "cell_type": "code",
   "execution_count": 23,
   "metadata": {},
   "outputs": [
    {
     "data": {
      "text/plain": [
       "array([1. , 2. , 3.3, 4. , 2. ])"
      ]
     },
     "execution_count": 23,
     "metadata": {},
     "output_type": "execute_result"
    }
   ],
   "source": [
    "# contoh, mengisi array dengan float dan integer\n",
    "np_array = np.array([1, 2, 3.3, 4.0, 2])\n",
    "np_array # all casted to the same type, float"
   ]
  },
  {
   "attachments": {},
   "cell_type": "markdown",
   "metadata": {},
   "source": [
    "Jika kita ingin mengatur tipe data secara eksplisit, gunakan keyword ```dtype```"
   ]
  },
  {
   "cell_type": "code",
   "execution_count": 27,
   "metadata": {},
   "outputs": [
    {
     "data": {
      "text/plain": [
       "array([1, 2, 3, 4, 5], dtype=int8)"
      ]
     },
     "execution_count": 27,
     "metadata": {},
     "output_type": "execute_result"
    }
   ],
   "source": [
    "# contoh, mengatur data float ke dalam bentuk int\n",
    "np_array = np.array([1.1, 2.5, 3.2, 4.7, 5.5], dtype=\"int8\")\n",
    "np_array"
   ]
  }
 ],
 "metadata": {
  "kernelspec": {
   "display_name": "Python 3",
   "language": "python",
   "name": "python3"
  },
  "language_info": {
   "codemirror_mode": {
    "name": "ipython",
    "version": 3
   },
   "file_extension": ".py",
   "mimetype": "text/x-python",
   "name": "python",
   "nbconvert_exporter": "python",
   "pygments_lexer": "ipython3",
   "version": "3.11.2"
  },
  "orig_nbformat": 4
 },
 "nbformat": 4,
 "nbformat_minor": 2
}
