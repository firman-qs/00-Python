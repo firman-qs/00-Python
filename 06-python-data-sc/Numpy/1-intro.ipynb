{
 "cells": [
  {
   "attachments": {},
   "cell_type": "markdown",
   "metadata": {},
   "source": [
    "# Python standart list"
   ]
  },
  {
   "cell_type": "code",
   "execution_count": 2,
   "metadata": {},
   "outputs": [
    {
     "name": "stdout",
     "output_type": "stream",
     "text": [
      "[0, 1, 2, 3, 4, 5, 6, 7, 8, 9]  type datanya item-1:  <class 'int'>\n",
      "['0', '1', '2', '3', '4', '5', '6', '7', '8', '9']  type data item-1:  <class 'str'>\n",
      "[True, 1, 1.23, 'hello'], \n",
      "tipe data item-1: <class 'bool'>,\n",
      "tipe data item-2: <class 'int'>,\n",
      "tipe data item-3: <class 'float'>,\n",
      "tipe data item-4: <class 'str'>,\n"
     ]
    }
   ],
   "source": [
    "# Kita dapat membuat list integer sebagai berikut:\n",
    "list_int = list(range(10)) # list angka dari 0 s.s. 9\n",
    "print(list_int, \" type datanya item-1: \", type(list_int[0]))\n",
    "\n",
    "# kita juga dapat membuat list string\n",
    "list_str = [str(n) for n in list_int]\n",
    "print(list_str, \" type data item-1: \", type(list_str[0]))\n",
    "\n",
    "# karena python itu \"dynamicly typed\" maka kita dapat membuat list dengan tipe data heterogen\n",
    "list_hetero = [True, 1, 1.23, 'hello']\n",
    "print(f\"\"\"{list_hetero}, \n",
    "tipe data item-1: {type(list_hetero[0])},\n",
    "tipe data item-2: {type(list_hetero[1])},\n",
    "tipe data item-3: {type(list_hetero[2])},\n",
    "tipe data item-4: {type(list_hetero[3])},\"\"\")"
   ]
  },
  {
   "attachments": {},
   "cell_type": "markdown",
   "metadata": {},
   "source": [
    "## Fixed-type Array di Python"
   ]
  },
  {
   "cell_type": "code",
   "execution_count": 3,
   "metadata": {},
   "outputs": [
    {
     "name": "stdout",
     "output_type": "stream",
     "text": [
      "[0, 1, 2, 3, 4, 5, 6, 7, 8, 9]\n",
      "array('i', [0, 1, 2, 3, 4, 5, 6, 7, 8, 9])   <class 'array.array'>\n"
     ]
    }
   ],
   "source": [
    "# dengan melakukan import array\n",
    "import array\n",
    "list_dynamic = list(range(10))\n",
    "list_fixed = array.array('i', list(range(10)))\n",
    "print(list_dynamic)\n",
    "print(list_fixed, \" \", type(list_fixed))"
   ]
  },
  {
   "attachments": {},
   "cell_type": "markdown",
   "metadata": {},
   "source": [
    "# NumPy"
   ]
  },
  {
   "cell_type": "code",
   "execution_count": 4,
   "metadata": {},
   "outputs": [],
   "source": [
    "# Import numpy dengan singkatan np\n",
    "import numpy as np"
   ]
  },
  {
   "attachments": {},
   "cell_type": "markdown",
   "metadata": {},
   "source": [
    "## Membuat array dengan numpy dari list-python"
   ]
  },
  {
   "cell_type": "code",
   "execution_count": 5,
   "metadata": {},
   "outputs": [
    {
     "data": {
      "text/plain": [
       "array([ 0,  1,  4,  9, 16, 25, 36, 49, 64, 81])"
      ]
     },
     "execution_count": 5,
     "metadata": {},
     "output_type": "execute_result"
    }
   ],
   "source": [
    "np_array = np.array([x**2 for x in range(10)])\n",
    "np_array"
   ]
  },
  {
   "attachments": {},
   "cell_type": "markdown",
   "metadata": {},
   "source": [
    "Tidak seperti list standar python, numpy membatasi item array pada tipe yang sejenis. Jika tidak, maka numpy akan melakukan casting data jika dimungkinkan."
   ]
  },
  {
   "cell_type": "code",
   "execution_count": 6,
   "metadata": {},
   "outputs": [
    {
     "data": {
      "text/plain": [
       "array([1. , 2. , 3.3, 4. , 2. ])"
      ]
     },
     "execution_count": 6,
     "metadata": {},
     "output_type": "execute_result"
    }
   ],
   "source": [
    "# contoh, mengisi array dengan float dan integer\n",
    "np_array = np.array([1, 2, 3.3, 4.0, 2])\n",
    "np_array # all casted to the same type, float"
   ]
  },
  {
   "attachments": {},
   "cell_type": "markdown",
   "metadata": {},
   "source": [
    "Jika kita ingin mengatur tipe data secara eksplisit, gunakan keyword ```dtype```"
   ]
  },
  {
   "cell_type": "code",
   "execution_count": 7,
   "metadata": {},
   "outputs": [
    {
     "data": {
      "text/plain": [
       "array([1, 2, 3, 4, 5], dtype=int8)"
      ]
     },
     "execution_count": 7,
     "metadata": {},
     "output_type": "execute_result"
    }
   ],
   "source": [
    "# contoh, mengatur data float ke dalam bentuk int\n",
    "np_array = np.array([1.1, 2.5, 3.2, 4.7, 5.5], dtype=\"int8\")\n",
    "np_array"
   ]
  },
  {
   "attachments": {},
   "cell_type": "markdown",
   "metadata": {},
   "source": [
    "## Membuat array from scratch"
   ]
  },
  {
   "attachments": {},
   "cell_type": "markdown",
   "metadata": {},
   "source": [
    "Untuk array yang lebih besar, akan lebih efisien jika menggaunakan apa yang disediakan numpy (built in)"
   ]
  },
  {
   "cell_type": "code",
   "execution_count": 8,
   "metadata": {},
   "outputs": [
    {
     "data": {
      "text/plain": [
       "array([0, 0, 0, 0, 0, 0, 0, 0, 0, 0], dtype=int8)"
      ]
     },
     "execution_count": 8,
     "metadata": {},
     "output_type": "execute_result"
    }
   ],
   "source": [
    "# membuat array 1D yang isinya angka nol\n",
    "arrayNol1D = np.zeros(10, dtype=\"int8\")\n",
    "arrayNol1D"
   ]
  },
  {
   "cell_type": "code",
   "execution_count": 9,
   "metadata": {},
   "outputs": [
    {
     "data": {
      "text/plain": [
       "array([[0, 0, 0, 0],\n",
       "       [0, 0, 0, 0],\n",
       "       [0, 0, 0, 0],\n",
       "       [0, 0, 0, 0]], dtype=int8)"
      ]
     },
     "execution_count": 9,
     "metadata": {},
     "output_type": "execute_result"
    }
   ],
   "source": [
    "# membuat array 2d yang isinya nol  \n",
    "arrayNol2D = np.zeros((4,4), dtype=\"int8\")\n",
    "arrayNol2D"
   ]
  },
  {
   "cell_type": "code",
   "execution_count": 10,
   "metadata": {},
   "outputs": [
    {
     "data": {
      "text/plain": [
       "array([[1., 1., 1., 1., 1.],\n",
       "       [1., 1., 1., 1., 1.],\n",
       "       [1., 1., 1., 1., 1.]])"
      ]
     },
     "execution_count": 10,
     "metadata": {},
     "output_type": "execute_result"
    }
   ],
   "source": [
    "# membuat array yang itemnya floating-point bernilai 1, dengan dimensi 3x5\n",
    "np.ones((3,5))"
   ]
  },
  {
   "cell_type": "code",
   "execution_count": 11,
   "metadata": {},
   "outputs": [
    {
     "data": {
      "text/plain": [
       "array([[9, 9, 9, 9, 9],\n",
       "       [9, 9, 9, 9, 9],\n",
       "       [9, 9, 9, 9, 9]])"
      ]
     },
     "execution_count": 11,
     "metadata": {},
     "output_type": "execute_result"
    }
   ],
   "source": [
    "# membuat array yang tersisi angka tertentu full\n",
    "np.full((3,5), 9)"
   ]
  },
  {
   "cell_type": "code",
   "execution_count": 12,
   "metadata": {},
   "outputs": [
    {
     "data": {
      "text/plain": [
       "array([ 0,  2,  4,  6,  8, 10, 12, 14, 16, 18])"
      ]
     },
     "execution_count": 12,
     "metadata": {},
     "output_type": "execute_result"
    }
   ],
   "source": [
    "# membuat array yang dimulai dari 0, loncat 2, sampai dengan 20\n",
    "np.arange(0,20,2)"
   ]
  },
  {
   "cell_type": "code",
   "execution_count": 13,
   "metadata": {},
   "outputs": [
    {
     "data": {
      "text/plain": [
       "array([0.        , 0.22222222, 0.44444444, 0.66666667, 0.88888889,\n",
       "       1.11111111, 1.33333333, 1.55555556, 1.77777778, 2.        ])"
      ]
     },
     "execution_count": 13,
     "metadata": {},
     "output_type": "execute_result"
    }
   ],
   "source": [
    "# membuat array dengan 10 item yang berjakan sama dari 0 s.d. 2\n",
    "np.linspace(0,2,10)"
   ]
  },
  {
   "cell_type": "code",
   "execution_count": 14,
   "metadata": {},
   "outputs": [
    {
     "data": {
      "text/plain": [
       "array([[0.35943481, 0.08862132, 0.83015575, 0.60999367],\n",
       "       [0.79681088, 0.6282732 , 0.4114517 , 0.6156312 ],\n",
       "       [0.23466842, 0.09638117, 0.92033632, 0.52574216]])"
      ]
     },
     "execution_count": 14,
     "metadata": {},
     "output_type": "execute_result"
    }
   ],
   "source": [
    "# membuat array 3x4 yang terdistribusi uniform, nilainya random antara 0 s.d. 1\n",
    "np.random.random((3,4))"
   ]
  },
  {
   "cell_type": "code",
   "execution_count": 15,
   "metadata": {},
   "outputs": [
    {
     "data": {
      "text/plain": [
       "array([[-1.05216266, -0.83945206,  1.44848643],\n",
       "       [-1.87556437,  1.03833374,  0.8749918 ],\n",
       "       [ 0.40220692, -0.65539082,  1.27105572]])"
      ]
     },
     "execution_count": 15,
     "metadata": {},
     "output_type": "execute_result"
    }
   ],
   "source": [
    "# membuat array 3x3 yang terdistribusi normal, meannya 0, std. deviasinya 1\n",
    "np.random.normal(0,1,(3,3))"
   ]
  },
  {
   "cell_type": "code",
   "execution_count": 16,
   "metadata": {},
   "outputs": [
    {
     "data": {
      "text/plain": [
       "array([[8, 8, 7],\n",
       "       [2, 9, 0],\n",
       "       [9, 8, 8]])"
      ]
     },
     "execution_count": 16,
     "metadata": {},
     "output_type": "execute_result"
    }
   ],
   "source": [
    "# membuat array 3x3 dengan item random dalam interval 0-10\n",
    "np.random.randint(0,10,(3,3))"
   ]
  },
  {
   "cell_type": "code",
   "execution_count": 17,
   "metadata": {},
   "outputs": [
    {
     "data": {
      "text/plain": [
       "array([[1., 0., 0.],\n",
       "       [0., 1., 0.],\n",
       "       [0., 0., 1.]])"
      ]
     },
     "execution_count": 17,
     "metadata": {},
     "output_type": "execute_result"
    }
   ],
   "source": [
    "# membuat 3x3 matrix identitas\n",
    "np.eye(3)\n",
    "# np.identity(3) # the same"
   ]
  },
  {
   "cell_type": "code",
   "execution_count": 18,
   "metadata": {},
   "outputs": [
    {
     "data": {
      "text/plain": [
       "array([1., 1., 1.])"
      ]
     },
     "execution_count": 18,
     "metadata": {},
     "output_type": "execute_result"
    }
   ],
   "source": [
    "# membuat array tiga integer tanpa inisiasi\n",
    "# nilainya adalah apapun yang ada di lokasi memori itu\n",
    "np.empty(3)"
   ]
  },
  {
   "attachments": {},
   "cell_type": "markdown",
   "metadata": {},
   "source": [
    "## Dasar-dasar array numpy"
   ]
  },
  {
   "attachments": {},
   "cell_type": "markdown",
   "metadata": {},
   "source": [
    "### Array attributes"
   ]
  },
  {
   "attachments": {},
   "cell_type": "markdown",
   "metadata": {},
   "source": [
    "Kita akan mulai dengan membuat tiga array random, gunakan ```seed``` untuk memastikan nilai random pada ketiga array adalah sama (pseudo-random)."
   ]
  },
  {
   "cell_type": "code",
   "execution_count": 19,
   "metadata": {},
   "outputs": [
    {
     "name": "stdout",
     "output_type": "stream",
     "text": [
      "======== a1 ======== \n",
      "ndim\t : 1\n",
      "shape\t : (6,)\n",
      "size\t : 6\n",
      "dtype\t : int64\n",
      "itemsize : 8\n",
      "nbytes\t : 48\n",
      "\n",
      "\n",
      "======== a2 ======== \n",
      "ndim\t : 2\n",
      "shape\t : (3, 4)\n",
      "size\t : 12\n",
      "dtype\t : int64\n",
      "itemsize : 8\n",
      "nbytes\t : 96\n",
      "\n",
      "\n",
      "======== a3 ======== \n",
      "ndim\t : 3\n",
      "shape\t : (3, 4, 5)\n",
      "size\t : 60\n",
      "dtype\t : int64\n",
      "itemsize : 8\n",
      "nbytes\t : 480\n",
      "\n",
      "\n"
     ]
    }
   ],
   "source": [
    "np.random.seed(1)\n",
    "a123 = [np.random.randint(size=6, high=10, low=0), # array 1D\n",
    "        np.random.randint(size=(3,4), high=10, low=0), # array 2D\n",
    "        np.random.randint(size=(3,4,5), high=10, low=0)]# array 3D\n",
    "\n",
    "# print it out\n",
    "j = 1\n",
    "for i in a123:\n",
    "    print(f\" a{j} \".center(20,\"=\"), f\"\"\"\n",
    "ndim\\t : {i.ndim}\n",
    "shape\\t : {i.shape}\n",
    "size\\t : {i.size}\n",
    "dtype\\t : {i.dtype}\n",
    "itemsize : {i.itemsize}\n",
    "nbytes\\t : {i.nbytes}\n",
    "\n",
    "\"\"\")\n",
    "    j+=1"
   ]
  },
  {
   "attachments": {},
   "cell_type": "markdown",
   "metadata": {},
   "source": [
    "### Indexing array"
   ]
  },
  {
   "cell_type": "code",
   "execution_count": 20,
   "metadata": {},
   "outputs": [
    {
     "name": "stdout",
     "output_type": "stream",
     "text": [
      "[0 1 2 3 4 5 6 7 8 9]\n",
      "2\n"
     ]
    }
   ],
   "source": [
    "# ambil elemen array\n",
    "a1 = np.arange(10)\n",
    "print(a1)\n",
    "print(a1[2])"
   ]
  },
  {
   "cell_type": "code",
   "execution_count": 21,
   "metadata": {},
   "outputs": [
    {
     "name": "stdout",
     "output_type": "stream",
     "text": [
      "8\n"
     ]
    }
   ],
   "source": [
    "# ambil elemen array dari akhir\n",
    "print(a1[-2])"
   ]
  },
  {
   "cell_type": "code",
   "execution_count": 22,
   "metadata": {},
   "outputs": [
    {
     "name": "stdout",
     "output_type": "stream",
     "text": [
      "[[ 5 11 12  8  9]\n",
      " [11  5 15  0 16]\n",
      " [ 1 12  7 13  6]\n",
      " [18  5 18 11 10]\n",
      " [14 18  4  9 17]]\n",
      "\n",
      "7\n"
     ]
    }
   ],
   "source": [
    "np.random.seed(1)\n",
    "a2 = np.random.randint(0,20,(5,5))\n",
    "print(a2,end=\"\\n\\n\")\n",
    "print(a2[2,2])"
   ]
  },
  {
   "attachments": {},
   "cell_type": "markdown",
   "metadata": {},
   "source": [
    "### Slicing Array"
   ]
  },
  {
   "cell_type": "code",
   "execution_count": 33,
   "metadata": {},
   "outputs": [
    {
     "name": "stdout",
     "output_type": "stream",
     "text": [
      "[0 1 2 3 4 5 6 7 8 9]\n",
      "0\n",
      "[0 1 2 3 4 5 6 7 8]\n",
      "[0 2 4 6 8]\n",
      "[0 2 4 6 8]\n",
      "[4 6 8]\n",
      "[7 8 9]\n",
      "[0 1 2]\n",
      "[9 8 7 6 5 4 3 2 1 0]\n",
      "[9 8 7 6 5]\n",
      "[9 8 7]\n"
     ]
    }
   ],
   "source": [
    "x = np.arange(10)\n",
    "print(x)\n",
    "print(x[0])\n",
    "print(x[0:9])\n",
    "print(x[0:9:2])\n",
    "print(x[::2])\n",
    "print(x[4::2])\n",
    "print(x[7:])\n",
    "print(x[:3])\n",
    "print(x[::-1])\n",
    "print(x[-1:4:-1])\n",
    "print(x[-1:6:-1])"
   ]
  },
  {
   "attachments": {},
   "cell_type": "markdown",
   "metadata": {},
   "source": [
    "### Subarray Multidimensional"
   ]
  },
  {
   "cell_type": "code",
   "execution_count": 46,
   "metadata": {},
   "outputs": [
    {
     "data": {
      "text/plain": [
       "array([[5, 8, 9, 5, 0, 0, 1],\n",
       "       [7, 6, 9, 2, 4, 5, 2],\n",
       "       [4, 2, 4, 7, 7, 9, 1]])"
      ]
     },
     "execution_count": 46,
     "metadata": {},
     "output_type": "execute_result"
    }
   ],
   "source": [
    "np.random.seed(1)\n",
    "k = np.random.randint(0,10,(3,7))\n",
    "k"
   ]
  },
  {
   "cell_type": "code",
   "execution_count": 47,
   "metadata": {},
   "outputs": [
    {
     "data": {
      "text/plain": [
       "array([[5, 8, 9],\n",
       "       [7, 6, 9]])"
      ]
     },
     "execution_count": 47,
     "metadata": {},
     "output_type": "execute_result"
    }
   ],
   "source": [
    "# ambil dua baris pertama dan 3 kolom pertama saja\n",
    "k[0:2, 0:3]"
   ]
  },
  {
   "cell_type": "code",
   "execution_count": 49,
   "metadata": {},
   "outputs": [
    {
     "data": {
      "text/plain": [
       "array([[5, 9, 0, 1],\n",
       "       [7, 9, 4, 2],\n",
       "       [4, 4, 7, 1]])"
      ]
     },
     "execution_count": 49,
     "metadata": {},
     "output_type": "execute_result"
    }
   ],
   "source": [
    "# Semua baris, ambil kolom loncat 1\n",
    "k[:,::2]"
   ]
  },
  {
   "cell_type": "code",
   "execution_count": 50,
   "metadata": {},
   "outputs": [
    {
     "data": {
      "text/plain": [
       "array([[1, 9, 7, 7, 4, 2, 4],\n",
       "       [2, 5, 4, 2, 9, 6, 7],\n",
       "       [1, 0, 0, 5, 9, 8, 5]])"
      ]
     },
     "execution_count": 50,
     "metadata": {},
     "output_type": "execute_result"
    }
   ],
   "source": [
    "# reverse juga dapat diterapkan disini\n",
    "k[::-1,::-1]"
   ]
  },
  {
   "attachments": {},
   "cell_type": "markdown",
   "metadata": {},
   "source": [
    "**Akses kolom atau baris array**"
   ]
  },
  {
   "cell_type": "code",
   "execution_count": 53,
   "metadata": {},
   "outputs": [
    {
     "data": {
      "text/plain": [
       "array([5, 8, 9, 5, 0, 0, 1])"
      ]
     },
     "execution_count": 53,
     "metadata": {},
     "output_type": "execute_result"
    }
   ],
   "source": [
    "# akses baris pertama\n",
    "# k[0,:] # atau lebih efisien jika menggunakan\n",
    "k[0]"
   ]
  },
  {
   "cell_type": "code",
   "execution_count": 56,
   "metadata": {},
   "outputs": [
    {
     "data": {
      "text/plain": [
       "array([7, 6, 9, 2, 4, 5, 2])"
      ]
     },
     "execution_count": 56,
     "metadata": {},
     "output_type": "execute_result"
    }
   ],
   "source": [
    "# akses baris ke-2\n",
    "k[1]"
   ]
  },
  {
   "cell_type": "code",
   "execution_count": 59,
   "metadata": {},
   "outputs": [
    {
     "data": {
      "text/plain": [
       "array([9, 9, 4])"
      ]
     },
     "execution_count": 59,
     "metadata": {},
     "output_type": "execute_result"
    }
   ],
   "source": [
    "# akses kolom ke 3\n",
    "k[:,2]"
   ]
  },
  {
   "attachments": {},
   "cell_type": "markdown",
   "metadata": {},
   "source": [
    "### Reshaping Array"
   ]
  },
  {
   "cell_type": "code",
   "execution_count": 64,
   "metadata": {},
   "outputs": [
    {
     "name": "stdout",
     "output_type": "stream",
     "text": [
      "[[1 2 3]\n",
      " [4 5 6]\n",
      " [7 8 9]]\n"
     ]
    }
   ],
   "source": [
    "# dengan method .reshape()\n",
    "grid = np.arange(1,10).reshape((3,3))\n",
    "print(grid)"
   ]
  },
  {
   "cell_type": "code",
   "execution_count": 73,
   "metadata": {},
   "outputs": [
    {
     "name": "stdout",
     "output_type": "stream",
     "text": [
      "[[ 5 11 12  8  9 11]\n",
      " [ 5 15  0 16  1 12]\n",
      " [ 7 13  6 18  5 18]\n",
      " [11 10 14 18  4  9]]\n"
     ]
    },
    {
     "data": {
      "text/plain": [
       "array([[ 5],\n",
       "       [11],\n",
       "       [12],\n",
       "       [ 8],\n",
       "       [ 9],\n",
       "       [11]])"
      ]
     },
     "execution_count": 73,
     "metadata": {},
     "output_type": "execute_result"
    }
   ],
   "source": [
    "# another way\n",
    "np.random.seed(1)\n",
    "x = np.random.randint(0,20, (4,6))\n",
    "print(x)\n",
    "x[0].reshape(6,1)"
   ]
  },
  {
   "cell_type": "code",
   "execution_count": 79,
   "metadata": {},
   "outputs": [
    {
     "data": {
      "text/plain": [
       "array([[0],\n",
       "       [1],\n",
       "       [2],\n",
       "       [3],\n",
       "       [4],\n",
       "       [5],\n",
       "       [6],\n",
       "       [7],\n",
       "       [8]])"
      ]
     },
     "execution_count": 79,
     "metadata": {},
     "output_type": "execute_result"
    }
   ],
   "source": [
    "x2 = np.arange(9)\n",
    "x2[:, np.newaxis]"
   ]
  },
  {
   "cell_type": "code",
   "execution_count": 81,
   "metadata": {},
   "outputs": [
    {
     "data": {
      "text/plain": [
       "array([[0, 1, 2, 3, 4, 5, 6, 7, 8]])"
      ]
     },
     "execution_count": 81,
     "metadata": {},
     "output_type": "execute_result"
    }
   ],
   "source": [
    "x2[np.newaxis,:]"
   ]
  },
  {
   "attachments": {},
   "cell_type": "markdown",
   "metadata": {},
   "source": [
    "### Konkatenasi Array dan Splitting"
   ]
  },
  {
   "cell_type": "code",
   "execution_count": null,
   "metadata": {},
   "outputs": [],
   "source": []
  }
 ],
 "metadata": {
  "kernelspec": {
   "display_name": "Python 3",
   "language": "python",
   "name": "python3"
  },
  "language_info": {
   "codemirror_mode": {
    "name": "ipython",
    "version": 3
   },
   "file_extension": ".py",
   "mimetype": "text/x-python",
   "name": "python",
   "nbconvert_exporter": "python",
   "pygments_lexer": "ipython3",
   "version": "3.10.10"
  },
  "orig_nbformat": 4
 },
 "nbformat": 4,
 "nbformat_minor": 2
}
